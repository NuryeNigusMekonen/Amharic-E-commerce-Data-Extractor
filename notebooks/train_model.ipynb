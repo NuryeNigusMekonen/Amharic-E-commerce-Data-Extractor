{
 "cells": [
  {
   "cell_type": "code",
   "execution_count": 2,
   "id": "9465f451",
   "metadata": {},
   "outputs": [],
   "source": [
    "import torch\n",
    "torch.cuda.empty_cache()"
   ]
  },
  {
   "cell_type": "code",
   "execution_count": 3,
   "id": "58a208c7",
   "metadata": {},
   "outputs": [],
   "source": [
    "import sys, os\n",
    "sys.path.append(os.path.abspath(\"..\"))"
   ]
  },
  {
   "cell_type": "code",
   "execution_count": 4,
   "id": "61d2ac69",
   "metadata": {},
   "outputs": [
    {
     "name": "stdout",
     "output_type": "stream",
     "text": [
      "Loading model: 'xlm-roberta-base'\n",
      "\n",
      "Label distribution:\n",
      "B-PRODUCT: 58\n",
      "I-PRODUCT: 58\n",
      "O: 3372\n",
      "B-LOC: 65\n",
      "I-LOC: 539\n",
      "B-PRICE: 30\n",
      "I-PRICE: 83\n"
     ]
    },
    {
     "data": {
      "application/vnd.jupyter.widget-view+json": {
       "model_id": "398426e0f6de42cd989d7e3d857c784b",
       "version_major": 2,
       "version_minor": 0
      },
      "text/plain": [
       "Casting the dataset:   0%|          | 0/99 [00:00<?, ? examples/s]"
      ]
     },
     "metadata": {},
     "output_type": "display_data"
    },
    {
     "name": "stderr",
     "output_type": "stream",
     "text": [
      "/home/nurye/Desktop/10_Academy/week_4/Amharic-E-commerce-Data-Extractor/AE-venv-py310/lib/python3.10/site-packages/huggingface_hub/file_download.py:943: FutureWarning: `resume_download` is deprecated and will be removed in version 1.0.0. Downloads always resume when possible. If you want to force a new download, use `force_download=True`.\n",
      "  warnings.warn(\n"
     ]
    },
    {
     "data": {
      "application/vnd.jupyter.widget-view+json": {
       "model_id": "325e93afa5fe44b9976f56cd691f0b36",
       "version_major": 2,
       "version_minor": 0
      },
      "text/plain": [
       "Map:   0%|          | 0/79 [00:00<?, ? examples/s]"
      ]
     },
     "metadata": {},
     "output_type": "display_data"
    },
    {
     "data": {
      "application/vnd.jupyter.widget-view+json": {
       "model_id": "3726afbbd3724a9ab01093810c7576c9",
       "version_major": 2,
       "version_minor": 0
      },
      "text/plain": [
       "Map:   0%|          | 0/20 [00:00<?, ? examples/s]"
      ]
     },
     "metadata": {},
     "output_type": "display_data"
    },
    {
     "data": {
      "application/vnd.jupyter.widget-view+json": {
       "model_id": "05393976e67243d08f7ad8653883e1c0",
       "version_major": 2,
       "version_minor": 0
      },
      "text/plain": [
       "  0%|          | 0/200 [00:00<?, ?it/s]"
      ]
     },
     "metadata": {},
     "output_type": "display_data"
    },
    {
     "data": {
      "application/vnd.jupyter.widget-view+json": {
       "model_id": "ce805760908b4be2ba34c10994658707",
       "version_major": 2,
       "version_minor": 0
      },
      "text/plain": [
       "  0%|          | 0/3 [00:00<?, ?it/s]"
      ]
     },
     "metadata": {},
     "output_type": "display_data"
    },
    {
     "name": "stdout",
     "output_type": "stream",
     "text": [
      "{'eval_loss': 92.8802719116211, 'eval_precision': 0.11882918304936653, 'eval_recall': 0.14285714285714285, 'eval_f1': 0.12974004292869068, 'eval_runtime': 0.4084, 'eval_samples_per_second': 48.972, 'eval_steps_per_second': 7.346, 'epoch': 1.0}\n"
     ]
    },
    {
     "data": {
      "application/vnd.jupyter.widget-view+json": {
       "model_id": "60d26e0b5c1548e5b41ae44fce7b3a6a",
       "version_major": 2,
       "version_minor": 0
      },
      "text/plain": [
       "  0%|          | 0/3 [00:00<?, ?it/s]"
      ]
     },
     "metadata": {},
     "output_type": "display_data"
    },
    {
     "name": "stdout",
     "output_type": "stream",
     "text": [
      "{'eval_loss': 58.951377868652344, 'eval_precision': 0.26326440270663376, 'eval_recall': 0.16006884681583475, 'eval_f1': 0.16139696020055253, 'eval_runtime': 0.409, 'eval_samples_per_second': 48.903, 'eval_steps_per_second': 7.335, 'epoch': 2.0}\n"
     ]
    },
    {
     "data": {
      "application/vnd.jupyter.widget-view+json": {
       "model_id": "d64ebd303d814edda11b804623094017",
       "version_major": 2,
       "version_minor": 0
      },
      "text/plain": [
       "  0%|          | 0/3 [00:00<?, ?it/s]"
      ]
     },
     "metadata": {},
     "output_type": "display_data"
    },
    {
     "name": "stdout",
     "output_type": "stream",
     "text": [
      "{'eval_loss': 33.49741744995117, 'eval_precision': 0.2445247420603836, 'eval_recall': 0.28218787515006, 'eval_f1': 0.2611117087892488, 'eval_runtime': 0.3983, 'eval_samples_per_second': 50.209, 'eval_steps_per_second': 7.531, 'epoch': 3.0}\n"
     ]
    },
    {
     "data": {
      "application/vnd.jupyter.widget-view+json": {
       "model_id": "5e958e258a824c48b5acae5321d25bbb",
       "version_major": 2,
       "version_minor": 0
      },
      "text/plain": [
       "  0%|          | 0/3 [00:00<?, ?it/s]"
      ]
     },
     "metadata": {},
     "output_type": "display_data"
    },
    {
     "name": "stdout",
     "output_type": "stream",
     "text": [
      "{'eval_loss': 26.49521827697754, 'eval_precision': 0.2801180908337751, 'eval_recall': 0.28732743097238894, 'eval_f1': 0.2691409470422325, 'eval_runtime': 0.3934, 'eval_samples_per_second': 50.845, 'eval_steps_per_second': 7.627, 'epoch': 4.0}\n"
     ]
    },
    {
     "data": {
      "application/vnd.jupyter.widget-view+json": {
       "model_id": "7569f2eefb564c1b9985e03bfadfe98e",
       "version_major": 2,
       "version_minor": 0
      },
      "text/plain": [
       "  0%|          | 0/3 [00:00<?, ?it/s]"
      ]
     },
     "metadata": {},
     "output_type": "display_data"
    },
    {
     "name": "stdout",
     "output_type": "stream",
     "text": [
      "{'eval_loss': 17.931325912475586, 'eval_precision': 0.7041932562498684, 'eval_recall': 0.4629099367019535, 'eval_f1': 0.5205536009439001, 'eval_runtime': 0.4042, 'eval_samples_per_second': 49.475, 'eval_steps_per_second': 7.421, 'epoch': 5.0}\n"
     ]
    },
    {
     "data": {
      "application/vnd.jupyter.widget-view+json": {
       "model_id": "f37c463dda314635adbbe855cadc22f3",
       "version_major": 2,
       "version_minor": 0
      },
      "text/plain": [
       "  0%|          | 0/3 [00:00<?, ?it/s]"
      ]
     },
     "metadata": {},
     "output_type": "display_data"
    },
    {
     "name": "stdout",
     "output_type": "stream",
     "text": [
      "{'eval_loss': 15.376363754272461, 'eval_precision': 0.7146947282451495, 'eval_recall': 0.6076571537705991, 'eval_f1': 0.6453467450787278, 'eval_runtime': 0.291, 'eval_samples_per_second': 68.717, 'eval_steps_per_second': 10.308, 'epoch': 6.0}\n"
     ]
    },
    {
     "data": {
      "application/vnd.jupyter.widget-view+json": {
       "model_id": "a081a302d9c3413280068786ae2383e1",
       "version_major": 2,
       "version_minor": 0
      },
      "text/plain": [
       "  0%|          | 0/3 [00:00<?, ?it/s]"
      ]
     },
     "metadata": {},
     "output_type": "display_data"
    },
    {
     "name": "stdout",
     "output_type": "stream",
     "text": [
      "{'eval_loss': 11.733861923217773, 'eval_precision': 0.754631329824132, 'eval_recall': 0.6618752046273055, 'eval_f1': 0.6987569606654341, 'eval_runtime': 0.3944, 'eval_samples_per_second': 50.707, 'eval_steps_per_second': 7.606, 'epoch': 7.0}\n"
     ]
    },
    {
     "data": {
      "application/vnd.jupyter.widget-view+json": {
       "model_id": "9f6a220a7fd64c86a2ddc032bf7fd155",
       "version_major": 2,
       "version_minor": 0
      },
      "text/plain": [
       "  0%|          | 0/3 [00:00<?, ?it/s]"
      ]
     },
     "metadata": {},
     "output_type": "display_data"
    },
    {
     "name": "stdout",
     "output_type": "stream",
     "text": [
      "{'eval_loss': 12.454326629638672, 'eval_precision': 0.7520980650810635, 'eval_recall': 0.6938618629269889, 'eval_f1': 0.7133898162646073, 'eval_runtime': 0.3948, 'eval_samples_per_second': 50.66, 'eval_steps_per_second': 7.599, 'epoch': 8.0}\n"
     ]
    },
    {
     "data": {
      "application/vnd.jupyter.widget-view+json": {
       "model_id": "7cb26a98a91f4056b1e81786058807a1",
       "version_major": 2,
       "version_minor": 0
      },
      "text/plain": [
       "  0%|          | 0/3 [00:00<?, ?it/s]"
      ]
     },
     "metadata": {},
     "output_type": "display_data"
    },
    {
     "name": "stdout",
     "output_type": "stream",
     "text": [
      "{'eval_loss': 10.127018928527832, 'eval_precision': 0.7693519618717414, 'eval_recall': 0.67892065917276, 'eval_f1': 0.7159904366770894, 'eval_runtime': 0.4205, 'eval_samples_per_second': 47.561, 'eval_steps_per_second': 7.134, 'epoch': 9.0}\n"
     ]
    },
    {
     "data": {
      "application/vnd.jupyter.widget-view+json": {
       "model_id": "eb56fe3abc474d80acf922684fd5986c",
       "version_major": 2,
       "version_minor": 0
      },
      "text/plain": [
       "  0%|          | 0/3 [00:00<?, ?it/s]"
      ]
     },
     "metadata": {},
     "output_type": "display_data"
    },
    {
     "name": "stdout",
     "output_type": "stream",
     "text": [
      "{'eval_loss': 9.214418411254883, 'eval_precision': 0.7526069773327436, 'eval_recall': 0.724643266397468, 'eval_f1': 0.7306077542154744, 'eval_runtime': 0.3876, 'eval_samples_per_second': 51.597, 'eval_steps_per_second': 7.739, 'epoch': 10.0}\n",
      "{'train_runtime': 136.2299, 'train_samples_per_second': 5.799, 'train_steps_per_second': 1.468, 'train_loss': 36.128857421875, 'epoch': 10.0}\n",
      "Finished training xlm-roberta-base. Saved to ../models/xlm-roberta-ner\n",
      "Loading model: 'rasyosef/bert-tiny-amharic'\n",
      "\n",
      "Label distribution:\n",
      "B-PRODUCT: 58\n",
      "I-PRODUCT: 58\n",
      "O: 3372\n",
      "B-LOC: 65\n",
      "I-LOC: 539\n",
      "B-PRICE: 30\n",
      "I-PRICE: 83\n"
     ]
    },
    {
     "data": {
      "application/vnd.jupyter.widget-view+json": {
       "model_id": "c22031fad88346de9d5ea34b71723a71",
       "version_major": 2,
       "version_minor": 0
      },
      "text/plain": [
       "Casting the dataset:   0%|          | 0/99 [00:00<?, ? examples/s]"
      ]
     },
     "metadata": {},
     "output_type": "display_data"
    },
    {
     "name": "stderr",
     "output_type": "stream",
     "text": [
      "/home/nurye/Desktop/10_Academy/week_4/Amharic-E-commerce-Data-Extractor/AE-venv-py310/lib/python3.10/site-packages/huggingface_hub/file_download.py:943: FutureWarning: `resume_download` is deprecated and will be removed in version 1.0.0. Downloads always resume when possible. If you want to force a new download, use `force_download=True`.\n",
      "  warnings.warn(\n"
     ]
    },
    {
     "data": {
      "application/vnd.jupyter.widget-view+json": {
       "model_id": "a8e03997a1c44f5f8d0e8fb1fb9e50be",
       "version_major": 2,
       "version_minor": 0
      },
      "text/plain": [
       "Map:   0%|          | 0/79 [00:00<?, ? examples/s]"
      ]
     },
     "metadata": {},
     "output_type": "display_data"
    },
    {
     "data": {
      "application/vnd.jupyter.widget-view+json": {
       "model_id": "0ac42509a4c44e8b90a8b106fcbf28d6",
       "version_major": 2,
       "version_minor": 0
      },
      "text/plain": [
       "Map:   0%|          | 0/20 [00:00<?, ? examples/s]"
      ]
     },
     "metadata": {},
     "output_type": "display_data"
    },
    {
     "name": "stderr",
     "output_type": "stream",
     "text": [
      "Some weights of BertModel were not initialized from the model checkpoint at rasyosef/bert-tiny-amharic and are newly initialized: ['bert.pooler.dense.bias', 'bert.pooler.dense.weight']\n",
      "You should probably TRAIN this model on a down-stream task to be able to use it for predictions and inference.\n"
     ]
    },
    {
     "data": {
      "application/vnd.jupyter.widget-view+json": {
       "model_id": "da266b65b36b42f394d3e938d09d5f74",
       "version_major": 2,
       "version_minor": 0
      },
      "text/plain": [
       "  0%|          | 0/200 [00:00<?, ?it/s]"
      ]
     },
     "metadata": {},
     "output_type": "display_data"
    },
    {
     "data": {
      "application/vnd.jupyter.widget-view+json": {
       "model_id": "dec38f5ea51b4f39a726375f30db7c52",
       "version_major": 2,
       "version_minor": 0
      },
      "text/plain": [
       "  0%|          | 0/3 [00:00<?, ?it/s]"
      ]
     },
     "metadata": {},
     "output_type": "display_data"
    },
    {
     "name": "stdout",
     "output_type": "stream",
     "text": [
      "{'eval_loss': 135.71328735351562, 'eval_precision': 0.12449731052888868, 'eval_recall': 0.12201525746207381, 'eval_f1': 0.04593624470656171, 'eval_runtime': 0.1746, 'eval_samples_per_second': 114.558, 'eval_steps_per_second': 17.184, 'epoch': 1.0}\n"
     ]
    },
    {
     "data": {
      "application/vnd.jupyter.widget-view+json": {
       "model_id": "08999838ce9a46bdbefd883375cea208",
       "version_major": 2,
       "version_minor": 0
      },
      "text/plain": [
       "  0%|          | 0/3 [00:00<?, ?it/s]"
      ]
     },
     "metadata": {},
     "output_type": "display_data"
    },
    {
     "name": "stdout",
     "output_type": "stream",
     "text": [
      "{'eval_loss': 101.205078125, 'eval_precision': 0.13774583483234495, 'eval_recall': 0.16121687190486889, 'eval_f1': 0.11227815652220892, 'eval_runtime': 0.1367, 'eval_samples_per_second': 146.345, 'eval_steps_per_second': 21.952, 'epoch': 2.0}\n"
     ]
    },
    {
     "data": {
      "application/vnd.jupyter.widget-view+json": {
       "model_id": "9fa454b37d464d73a54887910ba352d2",
       "version_major": 2,
       "version_minor": 0
      },
      "text/plain": [
       "  0%|          | 0/3 [00:00<?, ?it/s]"
      ]
     },
     "metadata": {},
     "output_type": "display_data"
    },
    {
     "name": "stdout",
     "output_type": "stream",
     "text": [
      "{'eval_loss': 77.0671615600586, 'eval_precision': 0.17591118519628407, 'eval_recall': 0.14937331081527228, 'eval_f1': 0.12990213117423138, 'eval_runtime': 0.1729, 'eval_samples_per_second': 115.671, 'eval_steps_per_second': 17.351, 'epoch': 3.0}\n"
     ]
    },
    {
     "data": {
      "application/vnd.jupyter.widget-view+json": {
       "model_id": "ebf3c27623084ac88b851ded5a432595",
       "version_major": 2,
       "version_minor": 0
      },
      "text/plain": [
       "  0%|          | 0/3 [00:00<?, ?it/s]"
      ]
     },
     "metadata": {},
     "output_type": "display_data"
    },
    {
     "name": "stdout",
     "output_type": "stream",
     "text": [
      "{'eval_loss': 62.11663818359375, 'eval_precision': 0.11597605352740932, 'eval_recall': 0.14213782189613006, 'eval_f1': 0.1277310924369748, 'eval_runtime': 0.1397, 'eval_samples_per_second': 143.201, 'eval_steps_per_second': 21.48, 'epoch': 4.0}\n"
     ]
    },
    {
     "data": {
      "application/vnd.jupyter.widget-view+json": {
       "model_id": "86a7df7e2b7940fba12b33f02b4fa914",
       "version_major": 2,
       "version_minor": 0
      },
      "text/plain": [
       "  0%|          | 0/3 [00:00<?, ?it/s]"
      ]
     },
     "metadata": {},
     "output_type": "display_data"
    },
    {
     "name": "stdout",
     "output_type": "stream",
     "text": [
      "{'eval_loss': 53.4643440246582, 'eval_precision': 0.1157796451914099, 'eval_recall': 0.1427132786649403, 'eval_f1': 0.12784328887170565, 'eval_runtime': 0.1731, 'eval_samples_per_second': 115.542, 'eval_steps_per_second': 17.331, 'epoch': 5.0}\n"
     ]
    },
    {
     "data": {
      "application/vnd.jupyter.widget-view+json": {
       "model_id": "1b370c5b8f4443759c3de0649cbc7536",
       "version_major": 2,
       "version_minor": 0
      },
      "text/plain": [
       "  0%|          | 0/3 [00:00<?, ?it/s]"
      ]
     },
     "metadata": {},
     "output_type": "display_data"
    },
    {
     "name": "stdout",
     "output_type": "stream",
     "text": [
      "{'eval_loss': 48.604705810546875, 'eval_precision': 0.11580174927113702, 'eval_recall': 0.14285714285714285, 'eval_f1': 0.12791446605693674, 'eval_runtime': 0.1432, 'eval_samples_per_second': 139.649, 'eval_steps_per_second': 20.947, 'epoch': 6.0}\n"
     ]
    },
    {
     "data": {
      "application/vnd.jupyter.widget-view+json": {
       "model_id": "8537cdac6a654d2688258e8174188a80",
       "version_major": 2,
       "version_minor": 0
      },
      "text/plain": [
       "  0%|          | 0/3 [00:00<?, ?it/s]"
      ]
     },
     "metadata": {},
     "output_type": "display_data"
    },
    {
     "name": "stdout",
     "output_type": "stream",
     "text": [
      "{'eval_loss': 45.79034423828125, 'eval_precision': 0.11580174927113702, 'eval_recall': 0.14285714285714285, 'eval_f1': 0.12791446605693674, 'eval_runtime': 0.1428, 'eval_samples_per_second': 140.047, 'eval_steps_per_second': 21.007, 'epoch': 7.0}\n"
     ]
    },
    {
     "data": {
      "application/vnd.jupyter.widget-view+json": {
       "model_id": "484c3d6cc32e485ea27482ac9ee2a799",
       "version_major": 2,
       "version_minor": 0
      },
      "text/plain": [
       "  0%|          | 0/3 [00:00<?, ?it/s]"
      ]
     },
     "metadata": {},
     "output_type": "display_data"
    },
    {
     "name": "stdout",
     "output_type": "stream",
     "text": [
      "{'eval_loss': 43.85332489013672, 'eval_precision': 0.11580174927113702, 'eval_recall': 0.14285714285714285, 'eval_f1': 0.12791446605693674, 'eval_runtime': 0.1326, 'eval_samples_per_second': 150.86, 'eval_steps_per_second': 22.629, 'epoch': 8.0}\n"
     ]
    },
    {
     "data": {
      "application/vnd.jupyter.widget-view+json": {
       "model_id": "10b86287a5984a74a67da198620ff9fa",
       "version_major": 2,
       "version_minor": 0
      },
      "text/plain": [
       "  0%|          | 0/3 [00:00<?, ?it/s]"
      ]
     },
     "metadata": {},
     "output_type": "display_data"
    },
    {
     "name": "stdout",
     "output_type": "stream",
     "text": [
      "{'eval_loss': 42.799049377441406, 'eval_precision': 0.11580174927113702, 'eval_recall': 0.14285714285714285, 'eval_f1': 0.12791446605693674, 'eval_runtime': 0.142, 'eval_samples_per_second': 140.834, 'eval_steps_per_second': 21.125, 'epoch': 9.0}\n"
     ]
    },
    {
     "data": {
      "application/vnd.jupyter.widget-view+json": {
       "model_id": "b88020de551b4704a3782b9b7deacbd4",
       "version_major": 2,
       "version_minor": 0
      },
      "text/plain": [
       "  0%|          | 0/3 [00:00<?, ?it/s]"
      ]
     },
     "metadata": {},
     "output_type": "display_data"
    },
    {
     "name": "stdout",
     "output_type": "stream",
     "text": [
      "{'eval_loss': 42.32746505737305, 'eval_precision': 0.11580174927113702, 'eval_recall': 0.14285714285714285, 'eval_f1': 0.12791446605693674, 'eval_runtime': 0.1311, 'eval_samples_per_second': 152.513, 'eval_steps_per_second': 22.877, 'epoch': 10.0}\n",
      "{'train_runtime': 29.2901, 'train_samples_per_second': 26.972, 'train_steps_per_second': 6.828, 'train_loss': 89.02193359375, 'epoch': 10.0}\n",
      "Finished training rasyosef/bert-tiny-amharic. Saved to ../models/bert-tiny-amharic\n",
      "Loading model: 'Davlan/afro-xlmr-base'\n",
      "\n",
      "Label distribution:\n",
      "B-PRODUCT: 58\n",
      "I-PRODUCT: 58\n",
      "O: 3372\n",
      "B-LOC: 65\n",
      "I-LOC: 539\n",
      "B-PRICE: 30\n",
      "I-PRICE: 83\n"
     ]
    },
    {
     "data": {
      "application/vnd.jupyter.widget-view+json": {
       "model_id": "025646a635434258a0fc5b063b532d90",
       "version_major": 2,
       "version_minor": 0
      },
      "text/plain": [
       "Casting the dataset:   0%|          | 0/99 [00:00<?, ? examples/s]"
      ]
     },
     "metadata": {},
     "output_type": "display_data"
    },
    {
     "name": "stderr",
     "output_type": "stream",
     "text": [
      "/home/nurye/Desktop/10_Academy/week_4/Amharic-E-commerce-Data-Extractor/AE-venv-py310/lib/python3.10/site-packages/huggingface_hub/file_download.py:943: FutureWarning: `resume_download` is deprecated and will be removed in version 1.0.0. Downloads always resume when possible. If you want to force a new download, use `force_download=True`.\n",
      "  warnings.warn(\n"
     ]
    },
    {
     "data": {
      "application/vnd.jupyter.widget-view+json": {
       "model_id": "7963759da1444dfb905dfe6e5cd16019",
       "version_major": 2,
       "version_minor": 0
      },
      "text/plain": [
       "sentencepiece.bpe.model:   0%|          | 0.00/5.07M [00:00<?, ?B/s]"
      ]
     },
     "metadata": {},
     "output_type": "display_data"
    },
    {
     "data": {
      "application/vnd.jupyter.widget-view+json": {
       "model_id": "31a82f3ae1b443db967368fef87e98a2",
       "version_major": 2,
       "version_minor": 0
      },
      "text/plain": [
       "tokenizer.json:   0%|          | 0.00/9.08M [00:00<?, ?B/s]"
      ]
     },
     "metadata": {},
     "output_type": "display_data"
    },
    {
     "data": {
      "application/vnd.jupyter.widget-view+json": {
       "model_id": "cd9a33521f3d4b608d7bb5c98d2b8843",
       "version_major": 2,
       "version_minor": 0
      },
      "text/plain": [
       "special_tokens_map.json:   0%|          | 0.00/239 [00:00<?, ?B/s]"
      ]
     },
     "metadata": {},
     "output_type": "display_data"
    },
    {
     "data": {
      "application/vnd.jupyter.widget-view+json": {
       "model_id": "e0fca1a7571a4437b805ff3085a9c0f9",
       "version_major": 2,
       "version_minor": 0
      },
      "text/plain": [
       "Map:   0%|          | 0/79 [00:00<?, ? examples/s]"
      ]
     },
     "metadata": {},
     "output_type": "display_data"
    },
    {
     "data": {
      "application/vnd.jupyter.widget-view+json": {
       "model_id": "7880b71bc51f4c3f90266a46acc52ac3",
       "version_major": 2,
       "version_minor": 0
      },
      "text/plain": [
       "Map:   0%|          | 0/20 [00:00<?, ? examples/s]"
      ]
     },
     "metadata": {},
     "output_type": "display_data"
    },
    {
     "data": {
      "application/vnd.jupyter.widget-view+json": {
       "model_id": "e24ed6f1dbec40bb9013647f88746e03",
       "version_major": 2,
       "version_minor": 0
      },
      "text/plain": [
       "config.json:   0%|          | 0.00/707 [00:00<?, ?B/s]"
      ]
     },
     "metadata": {},
     "output_type": "display_data"
    },
    {
     "data": {
      "application/vnd.jupyter.widget-view+json": {
       "model_id": "08c1388b30d248048d32a47c33eb96b3",
       "version_major": 2,
       "version_minor": 0
      },
      "text/plain": [
       "model.safetensors:   0%|          | 0.00/1.11G [00:00<?, ?B/s]"
      ]
     },
     "metadata": {},
     "output_type": "display_data"
    },
    {
     "name": "stderr",
     "output_type": "stream",
     "text": [
      "Some weights of XLMRobertaModel were not initialized from the model checkpoint at Davlan/afro-xlmr-base and are newly initialized: ['roberta.pooler.dense.bias', 'roberta.pooler.dense.weight']\n",
      "You should probably TRAIN this model on a down-stream task to be able to use it for predictions and inference.\n"
     ]
    },
    {
     "data": {
      "application/vnd.jupyter.widget-view+json": {
       "model_id": "85b501de16544168b06629265f5a70e1",
       "version_major": 2,
       "version_minor": 0
      },
      "text/plain": [
       "  0%|          | 0/200 [00:00<?, ?it/s]"
      ]
     },
     "metadata": {},
     "output_type": "display_data"
    },
    {
     "data": {
      "application/vnd.jupyter.widget-view+json": {
       "model_id": "cfc5f8e38d9041beb5338b4af3f612f7",
       "version_major": 2,
       "version_minor": 0
      },
      "text/plain": [
       "  0%|          | 0/3 [00:00<?, ?it/s]"
      ]
     },
     "metadata": {},
     "output_type": "display_data"
    },
    {
     "name": "stdout",
     "output_type": "stream",
     "text": [
      "{'eval_loss': 74.1200942993164, 'eval_precision': 0.11197151757899422, 'eval_recall': 0.14285714285714285, 'eval_f1': 0.1255426375929345, 'eval_runtime': 0.3297, 'eval_samples_per_second': 60.657, 'eval_steps_per_second': 9.099, 'epoch': 1.0}\n"
     ]
    },
    {
     "data": {
      "application/vnd.jupyter.widget-view+json": {
       "model_id": "cf2a5a7b808a4e638ba2d5d2854b2047",
       "version_major": 2,
       "version_minor": 0
      },
      "text/plain": [
       "  0%|          | 0/3 [00:00<?, ?it/s]"
      ]
     },
     "metadata": {},
     "output_type": "display_data"
    },
    {
     "name": "stdout",
     "output_type": "stream",
     "text": [
      "{'eval_loss': 48.90926742553711, 'eval_precision': 0.11197151757899422, 'eval_recall': 0.14285714285714285, 'eval_f1': 0.1255426375929345, 'eval_runtime': 0.3568, 'eval_samples_per_second': 56.051, 'eval_steps_per_second': 8.408, 'epoch': 2.0}\n"
     ]
    },
    {
     "data": {
      "application/vnd.jupyter.widget-view+json": {
       "model_id": "721315a6ce1c4ca386d84c67b1b8bfb7",
       "version_major": 2,
       "version_minor": 0
      },
      "text/plain": [
       "  0%|          | 0/3 [00:00<?, ?it/s]"
      ]
     },
     "metadata": {},
     "output_type": "display_data"
    },
    {
     "name": "stdout",
     "output_type": "stream",
     "text": [
      "{'eval_loss': 23.455154418945312, 'eval_precision': 0.25528769565466813, 'eval_recall': 0.27942656713542496, 'eval_f1': 0.2666266570783005, 'eval_runtime': 0.3218, 'eval_samples_per_second': 62.153, 'eval_steps_per_second': 9.323, 'epoch': 3.0}\n"
     ]
    },
    {
     "data": {
      "application/vnd.jupyter.widget-view+json": {
       "model_id": "e7de5542c018488fa78b3e7a1617c2e6",
       "version_major": 2,
       "version_minor": 0
      },
      "text/plain": [
       "  0%|          | 0/3 [00:00<?, ?it/s]"
      ]
     },
     "metadata": {},
     "output_type": "display_data"
    },
    {
     "name": "stdout",
     "output_type": "stream",
     "text": [
      "{'eval_loss': 17.587406158447266, 'eval_precision': 0.2622019289872365, 'eval_recall': 0.28389734272087214, 'eval_f1': 0.2725399228899719, 'eval_runtime': 0.3333, 'eval_samples_per_second': 60.0, 'eval_steps_per_second': 9.0, 'epoch': 4.0}\n"
     ]
    },
    {
     "data": {
      "application/vnd.jupyter.widget-view+json": {
       "model_id": "dac869ebcee84248907a301ec959a102",
       "version_major": 2,
       "version_minor": 0
      },
      "text/plain": [
       "  0%|          | 0/3 [00:00<?, ?it/s]"
      ]
     },
     "metadata": {},
     "output_type": "display_data"
    },
    {
     "name": "stdout",
     "output_type": "stream",
     "text": [
      "{'eval_loss': 15.722715377807617, 'eval_precision': 0.405466733788427, 'eval_recall': 0.3612635562738561, 'eval_f1': 0.37330947511413143, 'eval_runtime': 0.3206, 'eval_samples_per_second': 62.382, 'eval_steps_per_second': 9.357, 'epoch': 5.0}\n"
     ]
    },
    {
     "data": {
      "application/vnd.jupyter.widget-view+json": {
       "model_id": "a57523e51c364322ac6eac1c252ce2be",
       "version_major": 2,
       "version_minor": 0
      },
      "text/plain": [
       "  0%|          | 0/3 [00:00<?, ?it/s]"
      ]
     },
     "metadata": {},
     "output_type": "display_data"
    },
    {
     "name": "stdout",
     "output_type": "stream",
     "text": [
      "{'eval_loss': 13.677871704101562, 'eval_precision': 0.7724122737228685, 'eval_recall': 0.6122632972531553, 'eval_f1': 0.6443447506003764, 'eval_runtime': 0.3432, 'eval_samples_per_second': 58.279, 'eval_steps_per_second': 8.742, 'epoch': 6.0}\n"
     ]
    },
    {
     "data": {
      "application/vnd.jupyter.widget-view+json": {
       "model_id": "52841c1345a3447986dbd0e04d012a73",
       "version_major": 2,
       "version_minor": 0
      },
      "text/plain": [
       "  0%|          | 0/3 [00:00<?, ?it/s]"
      ]
     },
     "metadata": {},
     "output_type": "display_data"
    },
    {
     "name": "stdout",
     "output_type": "stream",
     "text": [
      "{'eval_loss': 11.972696304321289, 'eval_precision': 0.7335669298156452, 'eval_recall': 0.7335849191832964, 'eval_f1': 0.7330135372174187, 'eval_runtime': 0.336, 'eval_samples_per_second': 59.529, 'eval_steps_per_second': 8.929, 'epoch': 7.0}\n"
     ]
    },
    {
     "data": {
      "application/vnd.jupyter.widget-view+json": {
       "model_id": "30a18743b87248f6b29973c753e41147",
       "version_major": 2,
       "version_minor": 0
      },
      "text/plain": [
       "  0%|          | 0/3 [00:00<?, ?it/s]"
      ]
     },
     "metadata": {},
     "output_type": "display_data"
    },
    {
     "name": "stdout",
     "output_type": "stream",
     "text": [
      "{'eval_loss': 10.858081817626953, 'eval_precision': 0.7654879449250911, 'eval_recall': 0.782836937197992, 'eval_f1': 0.7697726383457483, 'eval_runtime': 0.3468, 'eval_samples_per_second': 57.662, 'eval_steps_per_second': 8.649, 'epoch': 8.0}\n"
     ]
    },
    {
     "data": {
      "application/vnd.jupyter.widget-view+json": {
       "model_id": "0e5d2d91ee3d49feaaa223209162ef7d",
       "version_major": 2,
       "version_minor": 0
      },
      "text/plain": [
       "  0%|          | 0/3 [00:00<?, ?it/s]"
      ]
     },
     "metadata": {},
     "output_type": "display_data"
    },
    {
     "name": "stdout",
     "output_type": "stream",
     "text": [
      "{'eval_loss': 10.659294128417969, 'eval_precision': 0.7315917076330917, 'eval_recall': 0.7683747497134921, 'eval_f1': 0.7425172468085527, 'eval_runtime': 0.324, 'eval_samples_per_second': 61.723, 'eval_steps_per_second': 9.258, 'epoch': 9.0}\n"
     ]
    },
    {
     "data": {
      "application/vnd.jupyter.widget-view+json": {
       "model_id": "a8c4fba41fd74413b11c1ee0d26ba113",
       "version_major": 2,
       "version_minor": 0
      },
      "text/plain": [
       "  0%|          | 0/3 [00:00<?, ?it/s]"
      ]
     },
     "metadata": {},
     "output_type": "display_data"
    },
    {
     "name": "stdout",
     "output_type": "stream",
     "text": [
      "{'eval_loss': 10.618353843688965, 'eval_precision': 0.7488755967985139, 'eval_recall': 0.7778985592373016, 'eval_f1': 0.755301008982495, 'eval_runtime': 0.3245, 'eval_samples_per_second': 61.63, 'eval_steps_per_second': 9.244, 'epoch': 10.0}\n",
      "{'train_runtime': 134.3117, 'train_samples_per_second': 5.882, 'train_steps_per_second': 1.489, 'train_loss': 39.1750244140625, 'epoch': 10.0}\n",
      "Finished training Davlan/afro-xlmr-base. Saved to ../models/afroxlmr-ner\n",
      "Loading model: 'google-bert/bert-base-multilingual-cased'\n",
      "\n",
      "Label distribution:\n",
      "B-PRODUCT: 58\n",
      "I-PRODUCT: 58\n",
      "O: 3372\n",
      "B-LOC: 65\n",
      "I-LOC: 539\n",
      "B-PRICE: 30\n",
      "I-PRICE: 83\n"
     ]
    },
    {
     "data": {
      "application/vnd.jupyter.widget-view+json": {
       "model_id": "7e20e132df594034a76648706b843372",
       "version_major": 2,
       "version_minor": 0
      },
      "text/plain": [
       "Casting the dataset:   0%|          | 0/99 [00:00<?, ? examples/s]"
      ]
     },
     "metadata": {},
     "output_type": "display_data"
    },
    {
     "name": "stderr",
     "output_type": "stream",
     "text": [
      "/home/nurye/Desktop/10_Academy/week_4/Amharic-E-commerce-Data-Extractor/AE-venv-py310/lib/python3.10/site-packages/huggingface_hub/file_download.py:943: FutureWarning: `resume_download` is deprecated and will be removed in version 1.0.0. Downloads always resume when possible. If you want to force a new download, use `force_download=True`.\n",
      "  warnings.warn(\n"
     ]
    },
    {
     "data": {
      "application/vnd.jupyter.widget-view+json": {
       "model_id": "153d5251f18449bf9ec58a27e4649d88",
       "version_major": 2,
       "version_minor": 0
      },
      "text/plain": [
       "tokenizer_config.json:   0%|          | 0.00/49.0 [00:00<?, ?B/s]"
      ]
     },
     "metadata": {},
     "output_type": "display_data"
    },
    {
     "data": {
      "application/vnd.jupyter.widget-view+json": {
       "model_id": "49bcff18f5c0414cad171aa1426fa285",
       "version_major": 2,
       "version_minor": 0
      },
      "text/plain": [
       "config.json:   0%|          | 0.00/625 [00:00<?, ?B/s]"
      ]
     },
     "metadata": {},
     "output_type": "display_data"
    },
    {
     "data": {
      "application/vnd.jupyter.widget-view+json": {
       "model_id": "d27743e2b01943fabe328a322a065666",
       "version_major": 2,
       "version_minor": 0
      },
      "text/plain": [
       "vocab.txt:   0%|          | 0.00/996k [00:00<?, ?B/s]"
      ]
     },
     "metadata": {},
     "output_type": "display_data"
    },
    {
     "data": {
      "application/vnd.jupyter.widget-view+json": {
       "model_id": "8a831ffa138e410eaec7e79a34484569",
       "version_major": 2,
       "version_minor": 0
      },
      "text/plain": [
       "tokenizer.json:   0%|          | 0.00/1.96M [00:00<?, ?B/s]"
      ]
     },
     "metadata": {},
     "output_type": "display_data"
    },
    {
     "data": {
      "application/vnd.jupyter.widget-view+json": {
       "model_id": "1828497f2fc84263a2812e3855c21dbb",
       "version_major": 2,
       "version_minor": 0
      },
      "text/plain": [
       "Map:   0%|          | 0/79 [00:00<?, ? examples/s]"
      ]
     },
     "metadata": {},
     "output_type": "display_data"
    },
    {
     "data": {
      "application/vnd.jupyter.widget-view+json": {
       "model_id": "33329db7509e4345ba6603333f09b49e",
       "version_major": 2,
       "version_minor": 0
      },
      "text/plain": [
       "Map:   0%|          | 0/20 [00:00<?, ? examples/s]"
      ]
     },
     "metadata": {},
     "output_type": "display_data"
    },
    {
     "data": {
      "application/vnd.jupyter.widget-view+json": {
       "model_id": "cde7385e777044288cc431d600a9f8d5",
       "version_major": 2,
       "version_minor": 0
      },
      "text/plain": [
       "model.safetensors:   0%|          | 0.00/714M [00:00<?, ?B/s]"
      ]
     },
     "metadata": {},
     "output_type": "display_data"
    },
    {
     "data": {
      "application/vnd.jupyter.widget-view+json": {
       "model_id": "7851fa4316ec4611a205e83bc58e8491",
       "version_major": 2,
       "version_minor": 0
      },
      "text/plain": [
       "  0%|          | 0/200 [00:00<?, ?it/s]"
      ]
     },
     "metadata": {},
     "output_type": "display_data"
    },
    {
     "data": {
      "application/vnd.jupyter.widget-view+json": {
       "model_id": "a384430d1625490796d2b3d77b900993",
       "version_major": 2,
       "version_minor": 0
      },
      "text/plain": [
       "  0%|          | 0/3 [00:00<?, ?it/s]"
      ]
     },
     "metadata": {},
     "output_type": "display_data"
    },
    {
     "name": "stdout",
     "output_type": "stream",
     "text": [
      "{'eval_loss': 30.56558609008789, 'eval_precision': 0.11508398469981707, 'eval_recall': 0.14285714285714285, 'eval_f1': 0.1274753615179147, 'eval_runtime': 0.1837, 'eval_samples_per_second': 108.866, 'eval_steps_per_second': 16.33, 'epoch': 1.0}\n"
     ]
    },
    {
     "data": {
      "application/vnd.jupyter.widget-view+json": {
       "model_id": "7f903978ffd4445a9b669ba58c9e03cd",
       "version_major": 2,
       "version_minor": 0
      },
      "text/plain": [
       "  0%|          | 0/3 [00:00<?, ?it/s]"
      ]
     },
     "metadata": {},
     "output_type": "display_data"
    },
    {
     "name": "stdout",
     "output_type": "stream",
     "text": [
      "{'eval_loss': 25.76980972290039, 'eval_precision': 0.2302089407191448, 'eval_recall': 0.21203904151881028, 'eval_f1': 0.21726424637518266, 'eval_runtime': 0.1915, 'eval_samples_per_second': 104.442, 'eval_steps_per_second': 15.666, 'epoch': 2.0}\n"
     ]
    },
    {
     "data": {
      "application/vnd.jupyter.widget-view+json": {
       "model_id": "6ecfcf802d1e4c26a6dfa6dcd84995bf",
       "version_major": 2,
       "version_minor": 0
      },
      "text/plain": [
       "  0%|          | 0/3 [00:00<?, ?it/s]"
      ]
     },
     "metadata": {},
     "output_type": "display_data"
    },
    {
     "name": "stdout",
     "output_type": "stream",
     "text": [
      "{'eval_loss': 22.149085998535156, 'eval_precision': 0.24962875573007462, 'eval_recall': 0.2115294485236682, 'eval_f1': 0.22162812994715603, 'eval_runtime': 0.1855, 'eval_samples_per_second': 107.83, 'eval_steps_per_second': 16.175, 'epoch': 3.0}\n"
     ]
    },
    {
     "data": {
      "application/vnd.jupyter.widget-view+json": {
       "model_id": "2d73c4202d26418194114f32ad7b324c",
       "version_major": 2,
       "version_minor": 0
      },
      "text/plain": [
       "  0%|          | 0/3 [00:00<?, ?it/s]"
      ]
     },
     "metadata": {},
     "output_type": "display_data"
    },
    {
     "name": "stdout",
     "output_type": "stream",
     "text": [
      "{'eval_loss': 16.26694107055664, 'eval_precision': 0.29574039603037117, 'eval_recall': 0.39303196673138874, 'eval_f1': 0.32996325900431145, 'eval_runtime': 0.1927, 'eval_samples_per_second': 103.762, 'eval_steps_per_second': 15.564, 'epoch': 4.0}\n"
     ]
    },
    {
     "data": {
      "application/vnd.jupyter.widget-view+json": {
       "model_id": "5d234f5428f241069d83bfac25e102f4",
       "version_major": 2,
       "version_minor": 0
      },
      "text/plain": [
       "  0%|          | 0/3 [00:00<?, ?it/s]"
      ]
     },
     "metadata": {},
     "output_type": "display_data"
    },
    {
     "name": "stdout",
     "output_type": "stream",
     "text": [
      "{'eval_loss': 14.77794075012207, 'eval_precision': 0.3121071761507404, 'eval_recall': 0.3997831440027972, 'eval_f1': 0.34373121965041264, 'eval_runtime': 0.1837, 'eval_samples_per_second': 108.89, 'eval_steps_per_second': 16.333, 'epoch': 5.0}\n"
     ]
    },
    {
     "data": {
      "application/vnd.jupyter.widget-view+json": {
       "model_id": "11ae7e92fbf64ddab6a43f5cc8237511",
       "version_major": 2,
       "version_minor": 0
      },
      "text/plain": [
       "  0%|          | 0/3 [00:00<?, ?it/s]"
      ]
     },
     "metadata": {},
     "output_type": "display_data"
    },
    {
     "name": "stdout",
     "output_type": "stream",
     "text": [
      "{'eval_loss': 12.797861099243164, 'eval_precision': 0.387507678656747, 'eval_recall': 0.3984477871761109, 'eval_f1': 0.3905868982683854, 'eval_runtime': 0.1856, 'eval_samples_per_second': 107.773, 'eval_steps_per_second': 16.166, 'epoch': 6.0}\n"
     ]
    },
    {
     "data": {
      "application/vnd.jupyter.widget-view+json": {
       "model_id": "1f43233ee199473fb749dbadd9b3ac19",
       "version_major": 2,
       "version_minor": 0
      },
      "text/plain": [
       "  0%|          | 0/3 [00:00<?, ?it/s]"
      ]
     },
     "metadata": {},
     "output_type": "display_data"
    },
    {
     "name": "stdout",
     "output_type": "stream",
     "text": [
      "{'eval_loss': 14.636128425598145, 'eval_precision': 0.5197639430823288, 'eval_recall': 0.4586355840691101, 'eval_f1': 0.4069839864514952, 'eval_runtime': 0.1857, 'eval_samples_per_second': 107.684, 'eval_steps_per_second': 16.153, 'epoch': 7.0}\n"
     ]
    },
    {
     "data": {
      "application/vnd.jupyter.widget-view+json": {
       "model_id": "b06de37787864f118cf6195b2be6ce7e",
       "version_major": 2,
       "version_minor": 0
      },
      "text/plain": [
       "  0%|          | 0/3 [00:00<?, ?it/s]"
      ]
     },
     "metadata": {},
     "output_type": "display_data"
    },
    {
     "name": "stdout",
     "output_type": "stream",
     "text": [
      "{'eval_loss': 11.8098726272583, 'eval_precision': 0.7522411569548224, 'eval_recall': 0.47535023430977186, 'eval_f1': 0.4526444605454682, 'eval_runtime': 0.1847, 'eval_samples_per_second': 108.258, 'eval_steps_per_second': 16.239, 'epoch': 8.0}\n"
     ]
    },
    {
     "data": {
      "application/vnd.jupyter.widget-view+json": {
       "model_id": "e9207bdd07444b12ab630ca3740ab751",
       "version_major": 2,
       "version_minor": 0
      },
      "text/plain": [
       "  0%|          | 0/3 [00:00<?, ?it/s]"
      ]
     },
     "metadata": {},
     "output_type": "display_data"
    },
    {
     "name": "stdout",
     "output_type": "stream",
     "text": [
      "{'eval_loss': 10.895940780639648, 'eval_precision': 0.7569989534275249, 'eval_recall': 0.49410142531529816, 'eval_f1': 0.4861420584150848, 'eval_runtime': 0.189, 'eval_samples_per_second': 105.846, 'eval_steps_per_second': 15.877, 'epoch': 9.0}\n"
     ]
    },
    {
     "data": {
      "application/vnd.jupyter.widget-view+json": {
       "model_id": "e241bdc7a09a4dc4b5201c0799210021",
       "version_major": 2,
       "version_minor": 0
      },
      "text/plain": [
       "  0%|          | 0/3 [00:00<?, ?it/s]"
      ]
     },
     "metadata": {},
     "output_type": "display_data"
    },
    {
     "name": "stdout",
     "output_type": "stream",
     "text": [
      "{'eval_loss': 11.097259521484375, 'eval_precision': 0.6348895357516048, 'eval_recall': 0.5333871396010125, 'eval_f1': 0.528353257131412, 'eval_runtime': 0.2091, 'eval_samples_per_second': 95.648, 'eval_steps_per_second': 14.347, 'epoch': 10.0}\n",
      "{'train_runtime': 76.2814, 'train_samples_per_second': 10.356, 'train_steps_per_second': 2.622, 'train_loss': 24.244951171875, 'epoch': 10.0}\n",
      "Finished training google-bert/bert-base-multilingual-cased. Saved to ../models/mbert-ner\n"
     ]
    }
   ],
   "source": [
    "from src.train import train_model\n",
    "from src.config import MODEL_LIST\n",
    "\n",
    "for model_name, model_dir in MODEL_LIST.items():\n",
    "    print(\"Loading model:\", repr(model_name))  #  Add this debug print\n",
    "    trainer, model, tokenizer = train_model(model_name, model_dir)\n",
    "    print(f\"Finished training {model_name}. Saved to {model_dir}\")\n"
   ]
  },
  {
   "cell_type": "code",
   "execution_count": null,
   "id": "1c55f37d",
   "metadata": {},
   "outputs": [
    {
     "data": {
      "text/plain": [
       "[('ስልኩ', 'B-PRODUCT'),\n",
       " ('0911223344', 'I-PRODUCT'),\n",
       " ('ነው', 'I-PRODUCT'),\n",
       " ('አድራሻችን', 'B-LOC'),\n",
       " ('አዲስ', 'I-LOC'),\n",
       " ('አበባ', 'I-LOC'),\n",
       " ('ህንፃ', 'I-LOC'),\n",
       " ('12', 'I-LOC'),\n",
       " ('ዋጋ', 'B-PRICE'),\n",
       " ('45', 'I-PRICE'),\n",
       " ('ብር', 'I-PRICE')]"
      ]
     },
     "execution_count": 7,
     "metadata": {},
     "output_type": "execute_result"
    }
   ],
   "source": [
    "from src.predict import load_model, predict_text\n",
    "\n",
    "test_text = \"ስልኩ 0911223344 ነው አድራሻችን አዲስ አበባ ህንፃ 12 ዋጋ 45 ብር\"\n",
    "\n",
    "for model_name, model_dir in MODEL_LIST.items():\n",
    "    print(f\"\\n Predictions from {model_name}\")\n",
    "    model, tokenizer = load_model(model_dir)\n",
    "    preds = predict_text(test_text, model, tokenizer)\n",
    "    for word, tag in preds:\n",
    "        print(f\"{word:<15} → {tag}\")\n"
   ]
  }
 ],
 "metadata": {
  "kernelspec": {
   "display_name": "AE-venv-py310",
   "language": "python",
   "name": "python3"
  },
  "language_info": {
   "codemirror_mode": {
    "name": "ipython",
    "version": 3
   },
   "file_extension": ".py",
   "mimetype": "text/x-python",
   "name": "python",
   "nbconvert_exporter": "python",
   "pygments_lexer": "ipython3",
   "version": "3.10.18"
  }
 },
 "nbformat": 4,
 "nbformat_minor": 5
}
