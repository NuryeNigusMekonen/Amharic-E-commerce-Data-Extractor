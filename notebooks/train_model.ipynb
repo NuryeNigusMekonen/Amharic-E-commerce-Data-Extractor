{
 "cells": [
  {
   "cell_type": "code",
   "execution_count": 1,
   "id": "9465f451",
   "metadata": {},
   "outputs": [],
   "source": [
    "import torch\n",
    "torch.cuda.empty_cache()"
   ]
  },
  {
   "cell_type": "code",
   "execution_count": 2,
   "id": "58a208c7",
   "metadata": {},
   "outputs": [],
   "source": [
    "import sys, os\n",
    "sys.path.append(os.path.abspath(\"..\"))"
   ]
  },
  {
   "cell_type": "code",
   "execution_count": 3,
   "id": "61d2ac69",
   "metadata": {},
   "outputs": [
    {
     "name": "stdout",
     "output_type": "stream",
     "text": [
      "Loading model: 'xlm-roberta-base'\n",
      "\n",
      "Label distribution:\n",
      "B-PRODUCT: 58\n",
      "I-PRODUCT: 58\n",
      "O: 3372\n",
      "B-LOC: 65\n",
      "I-LOC: 539\n",
      "B-PRICE: 30\n",
      "I-PRICE: 83\n"
     ]
    },
    {
     "data": {
      "application/vnd.jupyter.widget-view+json": {
       "model_id": "67476fa9532d4a049015c3d7fdc9448b",
       "version_major": 2,
       "version_minor": 0
      },
      "text/plain": [
       "Casting the dataset:   0%|          | 0/99 [00:00<?, ? examples/s]"
      ]
     },
     "metadata": {},
     "output_type": "display_data"
    },
    {
     "name": "stderr",
     "output_type": "stream",
     "text": [
      "/home/nurye/Desktop/10_Academy/week_4/Amharic-E-commerce-Data-Extractor/AE-venv-py310/lib/python3.10/site-packages/huggingface_hub/file_download.py:943: FutureWarning: `resume_download` is deprecated and will be removed in version 1.0.0. Downloads always resume when possible. If you want to force a new download, use `force_download=True`.\n",
      "  warnings.warn(\n"
     ]
    },
    {
     "data": {
      "application/vnd.jupyter.widget-view+json": {
       "model_id": "b7f923348fb34ff2b5dd9cfa84b02f0e",
       "version_major": 2,
       "version_minor": 0
      },
      "text/plain": [
       "Map:   0%|          | 0/79 [00:00<?, ? examples/s]"
      ]
     },
     "metadata": {},
     "output_type": "display_data"
    },
    {
     "data": {
      "application/vnd.jupyter.widget-view+json": {
       "model_id": "dc1214e98d734bc89edbfeb4d60c21ec",
       "version_major": 2,
       "version_minor": 0
      },
      "text/plain": [
       "Map:   0%|          | 0/20 [00:00<?, ? examples/s]"
      ]
     },
     "metadata": {},
     "output_type": "display_data"
    },
    {
     "data": {
      "application/vnd.jupyter.widget-view+json": {
       "model_id": "d95a24776a1b4186b4b67ba96e801372",
       "version_major": 2,
       "version_minor": 0
      },
      "text/plain": [
       "  0%|          | 0/200 [00:00<?, ?it/s]"
      ]
     },
     "metadata": {},
     "output_type": "display_data"
    },
    {
     "data": {
      "application/vnd.jupyter.widget-view+json": {
       "model_id": "804309b4010248bcb6ada7ee26bb154e",
       "version_major": 2,
       "version_minor": 0
      },
      "text/plain": [
       "  0%|          | 0/3 [00:00<?, ?it/s]"
      ]
     },
     "metadata": {},
     "output_type": "display_data"
    },
    {
     "name": "stdout",
     "output_type": "stream",
     "text": [
      "{'eval_loss': 72.1441879272461, 'eval_precision': 0.12361887430131288, 'eval_recall': 0.14285714285714285, 'eval_f1': 0.13254355400696866, 'eval_runtime': 0.4182, 'eval_samples_per_second': 47.828, 'eval_steps_per_second': 7.174, 'epoch': 1.0}\n"
     ]
    },
    {
     "data": {
      "application/vnd.jupyter.widget-view+json": {
       "model_id": "67b5db1a4a9841049b6fe13217f8075b",
       "version_major": 2,
       "version_minor": 0
      },
      "text/plain": [
       "  0%|          | 0/3 [00:00<?, ?it/s]"
      ]
     },
     "metadata": {},
     "output_type": "display_data"
    },
    {
     "name": "stdout",
     "output_type": "stream",
     "text": [
      "{'eval_loss': 47.496795654296875, 'eval_precision': 0.2490052185257665, 'eval_recall': 0.14778203394922637, 'eval_f1': 0.14234824315469477, 'eval_runtime': 0.3915, 'eval_samples_per_second': 51.086, 'eval_steps_per_second': 7.663, 'epoch': 2.0}\n"
     ]
    },
    {
     "data": {
      "application/vnd.jupyter.widget-view+json": {
       "model_id": "3bc8ecf1860a42679a85f2b971db4b0f",
       "version_major": 2,
       "version_minor": 0
      },
      "text/plain": [
       "  0%|          | 0/3 [00:00<?, ?it/s]"
      ]
     },
     "metadata": {},
     "output_type": "display_data"
    },
    {
     "name": "stdout",
     "output_type": "stream",
     "text": [
      "{'eval_loss': 29.69390869140625, 'eval_precision': 0.2332716308537842, 'eval_recall': 0.2519971458614992, 'eval_f1': 0.24213620916042328, 'eval_runtime': 0.4128, 'eval_samples_per_second': 48.447, 'eval_steps_per_second': 7.267, 'epoch': 3.0}\n"
     ]
    },
    {
     "data": {
      "application/vnd.jupyter.widget-view+json": {
       "model_id": "adb7b21bc8d44ecab813aedfbcdaa6b7",
       "version_major": 2,
       "version_minor": 0
      },
      "text/plain": [
       "  0%|          | 0/3 [00:00<?, ?it/s]"
      ]
     },
     "metadata": {},
     "output_type": "display_data"
    },
    {
     "name": "stdout",
     "output_type": "stream",
     "text": [
      "{'eval_loss': 29.595783233642578, 'eval_precision': 0.22514128977877265, 'eval_recall': 0.27143608231936306, 'eval_f1': 0.2433635443880453, 'eval_runtime': 0.3925, 'eval_samples_per_second': 50.961, 'eval_steps_per_second': 7.644, 'epoch': 4.0}\n"
     ]
    },
    {
     "data": {
      "application/vnd.jupyter.widget-view+json": {
       "model_id": "bfffbba3c4434b25b98e097b4724e463",
       "version_major": 2,
       "version_minor": 0
      },
      "text/plain": [
       "  0%|          | 0/3 [00:00<?, ?it/s]"
      ]
     },
     "metadata": {},
     "output_type": "display_data"
    },
    {
     "name": "stdout",
     "output_type": "stream",
     "text": [
      "{'eval_loss': 17.51424217224121, 'eval_precision': 0.4795287143188315, 'eval_recall': 0.3057439195925, 'eval_f1': 0.3099906075243699, 'eval_runtime': 0.4003, 'eval_samples_per_second': 49.966, 'eval_steps_per_second': 7.495, 'epoch': 5.0}\n"
     ]
    },
    {
     "data": {
      "application/vnd.jupyter.widget-view+json": {
       "model_id": "79061214d92c4af48a13ae5f575e96b5",
       "version_major": 2,
       "version_minor": 0
      },
      "text/plain": [
       "  0%|          | 0/3 [00:00<?, ?it/s]"
      ]
     },
     "metadata": {},
     "output_type": "display_data"
    },
    {
     "name": "stdout",
     "output_type": "stream",
     "text": [
      "{'eval_loss': 13.475906372070312, 'eval_precision': 0.5847740940095226, 'eval_recall': 0.570406536001266, 'eval_f1': 0.561421001552046, 'eval_runtime': 0.3911, 'eval_samples_per_second': 51.14, 'eval_steps_per_second': 7.671, 'epoch': 6.0}\n"
     ]
    },
    {
     "data": {
      "application/vnd.jupyter.widget-view+json": {
       "model_id": "fc862ca2a42d4e2eb069e946f679ed84",
       "version_major": 2,
       "version_minor": 0
      },
      "text/plain": [
       "  0%|          | 0/3 [00:00<?, ?it/s]"
      ]
     },
     "metadata": {},
     "output_type": "display_data"
    },
    {
     "name": "stdout",
     "output_type": "stream",
     "text": [
      "{'eval_loss': 11.770689010620117, 'eval_precision': 0.596423361058086, 'eval_recall': 0.6285756459165255, 'eval_f1': 0.6062861545075802, 'eval_runtime': 0.3929, 'eval_samples_per_second': 50.901, 'eval_steps_per_second': 7.635, 'epoch': 7.0}\n"
     ]
    },
    {
     "data": {
      "application/vnd.jupyter.widget-view+json": {
       "model_id": "2165ca78bafc4c64bdb3d39bcf692f2e",
       "version_major": 2,
       "version_minor": 0
      },
      "text/plain": [
       "  0%|          | 0/3 [00:00<?, ?it/s]"
      ]
     },
     "metadata": {},
     "output_type": "display_data"
    },
    {
     "name": "stdout",
     "output_type": "stream",
     "text": [
      "{'eval_loss': 11.499159812927246, 'eval_precision': 0.6167980396940347, 'eval_recall': 0.691115861314414, 'eval_f1': 0.6469248888784939, 'eval_runtime': 0.4014, 'eval_samples_per_second': 49.821, 'eval_steps_per_second': 7.473, 'epoch': 8.0}\n"
     ]
    },
    {
     "data": {
      "application/vnd.jupyter.widget-view+json": {
       "model_id": "4ef7d92e9856484093c9c2f3cde91e5f",
       "version_major": 2,
       "version_minor": 0
      },
      "text/plain": [
       "  0%|          | 0/3 [00:00<?, ?it/s]"
      ]
     },
     "metadata": {},
     "output_type": "display_data"
    },
    {
     "name": "stdout",
     "output_type": "stream",
     "text": [
      "{'eval_loss': 9.874850273132324, 'eval_precision': 0.6363690560665543, 'eval_recall': 0.7272858331746808, 'eval_f1': 0.6644477838382187, 'eval_runtime': 0.402, 'eval_samples_per_second': 49.746, 'eval_steps_per_second': 7.462, 'epoch': 9.0}\n"
     ]
    },
    {
     "data": {
      "application/vnd.jupyter.widget-view+json": {
       "model_id": "c4986aa9c52a40cdbcf77af3fd8f9502",
       "version_major": 2,
       "version_minor": 0
      },
      "text/plain": [
       "  0%|          | 0/3 [00:00<?, ?it/s]"
      ]
     },
     "metadata": {},
     "output_type": "display_data"
    },
    {
     "name": "stdout",
     "output_type": "stream",
     "text": [
      "{'eval_loss': 9.100189208984375, 'eval_precision': 0.6749883755728087, 'eval_recall': 0.723227943887621, 'eval_f1': 0.6881187635786458, 'eval_runtime': 0.4038, 'eval_samples_per_second': 49.531, 'eval_steps_per_second': 7.43, 'epoch': 10.0}\n",
      "{'train_runtime': 136.1705, 'train_samples_per_second': 5.802, 'train_steps_per_second': 1.469, 'train_loss': 36.59686279296875, 'epoch': 10.0}\n",
      "Finished training xlm-roberta-base. Saved to ../models/xlm-roberta-ner/checkpoint-200\n",
      "Loading model: 'rasyosef/bert-tiny-amharic'\n",
      "\n",
      "Label distribution:\n",
      "B-PRODUCT: 58\n",
      "I-PRODUCT: 58\n",
      "O: 3372\n",
      "B-LOC: 65\n",
      "I-LOC: 539\n",
      "B-PRICE: 30\n",
      "I-PRICE: 83\n"
     ]
    },
    {
     "data": {
      "application/vnd.jupyter.widget-view+json": {
       "model_id": "3840488e7e724f0aad6aba73eb01fc0a",
       "version_major": 2,
       "version_minor": 0
      },
      "text/plain": [
       "Casting the dataset:   0%|          | 0/99 [00:00<?, ? examples/s]"
      ]
     },
     "metadata": {},
     "output_type": "display_data"
    },
    {
     "name": "stderr",
     "output_type": "stream",
     "text": [
      "/home/nurye/Desktop/10_Academy/week_4/Amharic-E-commerce-Data-Extractor/AE-venv-py310/lib/python3.10/site-packages/huggingface_hub/file_download.py:943: FutureWarning: `resume_download` is deprecated and will be removed in version 1.0.0. Downloads always resume when possible. If you want to force a new download, use `force_download=True`.\n",
      "  warnings.warn(\n"
     ]
    },
    {
     "data": {
      "application/vnd.jupyter.widget-view+json": {
       "model_id": "069faf919d70410fa4d1000946521da8",
       "version_major": 2,
       "version_minor": 0
      },
      "text/plain": [
       "Map:   0%|          | 0/79 [00:00<?, ? examples/s]"
      ]
     },
     "metadata": {},
     "output_type": "display_data"
    },
    {
     "data": {
      "application/vnd.jupyter.widget-view+json": {
       "model_id": "e9d12b5ff4a94b3e9fd41db69ff9566c",
       "version_major": 2,
       "version_minor": 0
      },
      "text/plain": [
       "Map:   0%|          | 0/20 [00:00<?, ? examples/s]"
      ]
     },
     "metadata": {},
     "output_type": "display_data"
    },
    {
     "name": "stderr",
     "output_type": "stream",
     "text": [
      "Some weights of BertModel were not initialized from the model checkpoint at rasyosef/bert-tiny-amharic and are newly initialized: ['bert.pooler.dense.bias', 'bert.pooler.dense.weight']\n",
      "You should probably TRAIN this model on a down-stream task to be able to use it for predictions and inference.\n"
     ]
    },
    {
     "data": {
      "application/vnd.jupyter.widget-view+json": {
       "model_id": "78c2e7cff8ef478e9f7119f0d5031484",
       "version_major": 2,
       "version_minor": 0
      },
      "text/plain": [
       "  0%|          | 0/200 [00:00<?, ?it/s]"
      ]
     },
     "metadata": {},
     "output_type": "display_data"
    },
    {
     "data": {
      "application/vnd.jupyter.widget-view+json": {
       "model_id": "17baa3a03b3a4629bcc0e24824f68d37",
       "version_major": 2,
       "version_minor": 0
      },
      "text/plain": [
       "  0%|          | 0/3 [00:00<?, ?it/s]"
      ]
     },
     "metadata": {},
     "output_type": "display_data"
    },
    {
     "name": "stdout",
     "output_type": "stream",
     "text": [
      "{'eval_loss': 135.71328735351562, 'eval_precision': 0.12449731052888868, 'eval_recall': 0.12201525746207381, 'eval_f1': 0.04593624470656171, 'eval_runtime': 0.1314, 'eval_samples_per_second': 152.257, 'eval_steps_per_second': 22.838, 'epoch': 1.0}\n"
     ]
    },
    {
     "data": {
      "application/vnd.jupyter.widget-view+json": {
       "model_id": "4c0640748d7e482e86cd922b3475ec96",
       "version_major": 2,
       "version_minor": 0
      },
      "text/plain": [
       "  0%|          | 0/3 [00:00<?, ?it/s]"
      ]
     },
     "metadata": {},
     "output_type": "display_data"
    },
    {
     "name": "stdout",
     "output_type": "stream",
     "text": [
      "{'eval_loss': 101.205078125, 'eval_precision': 0.13774583483234495, 'eval_recall': 0.16121687190486889, 'eval_f1': 0.11227815652220892, 'eval_runtime': 0.1397, 'eval_samples_per_second': 143.138, 'eval_steps_per_second': 21.471, 'epoch': 2.0}\n"
     ]
    },
    {
     "data": {
      "application/vnd.jupyter.widget-view+json": {
       "model_id": "dc0cba2e78b741edb60aedf54250c1d9",
       "version_major": 2,
       "version_minor": 0
      },
      "text/plain": [
       "  0%|          | 0/3 [00:00<?, ?it/s]"
      ]
     },
     "metadata": {},
     "output_type": "display_data"
    },
    {
     "name": "stdout",
     "output_type": "stream",
     "text": [
      "{'eval_loss': 77.0671615600586, 'eval_precision': 0.17591118519628407, 'eval_recall': 0.14937331081527228, 'eval_f1': 0.12990213117423138, 'eval_runtime': 0.1598, 'eval_samples_per_second': 125.163, 'eval_steps_per_second': 18.774, 'epoch': 3.0}\n"
     ]
    },
    {
     "data": {
      "application/vnd.jupyter.widget-view+json": {
       "model_id": "7560599c92b94e2289edae99769474af",
       "version_major": 2,
       "version_minor": 0
      },
      "text/plain": [
       "  0%|          | 0/3 [00:00<?, ?it/s]"
      ]
     },
     "metadata": {},
     "output_type": "display_data"
    },
    {
     "name": "stdout",
     "output_type": "stream",
     "text": [
      "{'eval_loss': 62.11663818359375, 'eval_precision': 0.11597605352740932, 'eval_recall': 0.14213782189613006, 'eval_f1': 0.1277310924369748, 'eval_runtime': 0.1534, 'eval_samples_per_second': 130.389, 'eval_steps_per_second': 19.558, 'epoch': 4.0}\n"
     ]
    },
    {
     "data": {
      "application/vnd.jupyter.widget-view+json": {
       "model_id": "17743db780f3443f984d0373359427a8",
       "version_major": 2,
       "version_minor": 0
      },
      "text/plain": [
       "  0%|          | 0/3 [00:00<?, ?it/s]"
      ]
     },
     "metadata": {},
     "output_type": "display_data"
    },
    {
     "name": "stdout",
     "output_type": "stream",
     "text": [
      "{'eval_loss': 53.4643440246582, 'eval_precision': 0.1157796451914099, 'eval_recall': 0.1427132786649403, 'eval_f1': 0.12784328887170565, 'eval_runtime': 0.1527, 'eval_samples_per_second': 130.94, 'eval_steps_per_second': 19.641, 'epoch': 5.0}\n"
     ]
    },
    {
     "data": {
      "application/vnd.jupyter.widget-view+json": {
       "model_id": "f05049d0dd8348b5a1ac633d9b31d7f6",
       "version_major": 2,
       "version_minor": 0
      },
      "text/plain": [
       "  0%|          | 0/3 [00:00<?, ?it/s]"
      ]
     },
     "metadata": {},
     "output_type": "display_data"
    },
    {
     "name": "stdout",
     "output_type": "stream",
     "text": [
      "{'eval_loss': 48.604705810546875, 'eval_precision': 0.11580174927113702, 'eval_recall': 0.14285714285714285, 'eval_f1': 0.12791446605693674, 'eval_runtime': 0.1452, 'eval_samples_per_second': 137.732, 'eval_steps_per_second': 20.66, 'epoch': 6.0}\n"
     ]
    },
    {
     "data": {
      "application/vnd.jupyter.widget-view+json": {
       "model_id": "156238c1f8f048e5a8042442f32ddf8e",
       "version_major": 2,
       "version_minor": 0
      },
      "text/plain": [
       "  0%|          | 0/3 [00:00<?, ?it/s]"
      ]
     },
     "metadata": {},
     "output_type": "display_data"
    },
    {
     "name": "stdout",
     "output_type": "stream",
     "text": [
      "{'eval_loss': 45.79034423828125, 'eval_precision': 0.11580174927113702, 'eval_recall': 0.14285714285714285, 'eval_f1': 0.12791446605693674, 'eval_runtime': 0.1522, 'eval_samples_per_second': 131.433, 'eval_steps_per_second': 19.715, 'epoch': 7.0}\n"
     ]
    },
    {
     "data": {
      "application/vnd.jupyter.widget-view+json": {
       "model_id": "8636d2ec6043437893bb6e52c63226a4",
       "version_major": 2,
       "version_minor": 0
      },
      "text/plain": [
       "  0%|          | 0/3 [00:00<?, ?it/s]"
      ]
     },
     "metadata": {},
     "output_type": "display_data"
    },
    {
     "name": "stdout",
     "output_type": "stream",
     "text": [
      "{'eval_loss': 43.85332489013672, 'eval_precision': 0.11580174927113702, 'eval_recall': 0.14285714285714285, 'eval_f1': 0.12791446605693674, 'eval_runtime': 0.1974, 'eval_samples_per_second': 101.337, 'eval_steps_per_second': 15.201, 'epoch': 8.0}\n"
     ]
    },
    {
     "data": {
      "application/vnd.jupyter.widget-view+json": {
       "model_id": "e3d51fc55c204a8ea11c7fe0a1bc1758",
       "version_major": 2,
       "version_minor": 0
      },
      "text/plain": [
       "  0%|          | 0/3 [00:00<?, ?it/s]"
      ]
     },
     "metadata": {},
     "output_type": "display_data"
    },
    {
     "name": "stdout",
     "output_type": "stream",
     "text": [
      "{'eval_loss': 42.799049377441406, 'eval_precision': 0.11580174927113702, 'eval_recall': 0.14285714285714285, 'eval_f1': 0.12791446605693674, 'eval_runtime': 0.1352, 'eval_samples_per_second': 147.956, 'eval_steps_per_second': 22.193, 'epoch': 9.0}\n"
     ]
    },
    {
     "data": {
      "application/vnd.jupyter.widget-view+json": {
       "model_id": "aa1d8e90117441489c884c815ba9cc55",
       "version_major": 2,
       "version_minor": 0
      },
      "text/plain": [
       "  0%|          | 0/3 [00:00<?, ?it/s]"
      ]
     },
     "metadata": {},
     "output_type": "display_data"
    },
    {
     "name": "stdout",
     "output_type": "stream",
     "text": [
      "{'eval_loss': 42.32746505737305, 'eval_precision': 0.11580174927113702, 'eval_recall': 0.14285714285714285, 'eval_f1': 0.12791446605693674, 'eval_runtime': 0.1526, 'eval_samples_per_second': 131.075, 'eval_steps_per_second': 19.661, 'epoch': 10.0}\n",
      "{'train_runtime': 29.5418, 'train_samples_per_second': 26.742, 'train_steps_per_second': 6.77, 'train_loss': 89.02193359375, 'epoch': 10.0}\n",
      "Finished training rasyosef/bert-tiny-amharic. Saved to ../models/bert-tiny-amharic/checkpoint-200\n",
      "Loading model: 'Davlan/afro-xlmr-base'\n",
      "\n",
      "Label distribution:\n",
      "B-PRODUCT: 58\n",
      "I-PRODUCT: 58\n",
      "O: 3372\n",
      "B-LOC: 65\n",
      "I-LOC: 539\n",
      "B-PRICE: 30\n",
      "I-PRICE: 83\n"
     ]
    },
    {
     "data": {
      "application/vnd.jupyter.widget-view+json": {
       "model_id": "bdcfe459b07c489da5c9bcd0ab158223",
       "version_major": 2,
       "version_minor": 0
      },
      "text/plain": [
       "Casting the dataset:   0%|          | 0/99 [00:00<?, ? examples/s]"
      ]
     },
     "metadata": {},
     "output_type": "display_data"
    },
    {
     "name": "stderr",
     "output_type": "stream",
     "text": [
      "/home/nurye/Desktop/10_Academy/week_4/Amharic-E-commerce-Data-Extractor/AE-venv-py310/lib/python3.10/site-packages/huggingface_hub/file_download.py:943: FutureWarning: `resume_download` is deprecated and will be removed in version 1.0.0. Downloads always resume when possible. If you want to force a new download, use `force_download=True`.\n",
      "  warnings.warn(\n"
     ]
    },
    {
     "data": {
      "application/vnd.jupyter.widget-view+json": {
       "model_id": "7442bcfff0124356a4fdcb0d5f6b4a67",
       "version_major": 2,
       "version_minor": 0
      },
      "text/plain": [
       "Map:   0%|          | 0/79 [00:00<?, ? examples/s]"
      ]
     },
     "metadata": {},
     "output_type": "display_data"
    },
    {
     "data": {
      "application/vnd.jupyter.widget-view+json": {
       "model_id": "3cc2c93b7da4439db769d3df1571888a",
       "version_major": 2,
       "version_minor": 0
      },
      "text/plain": [
       "Map:   0%|          | 0/20 [00:00<?, ? examples/s]"
      ]
     },
     "metadata": {},
     "output_type": "display_data"
    },
    {
     "name": "stderr",
     "output_type": "stream",
     "text": [
      "Some weights of XLMRobertaModel were not initialized from the model checkpoint at Davlan/afro-xlmr-base and are newly initialized: ['roberta.pooler.dense.bias', 'roberta.pooler.dense.weight']\n",
      "You should probably TRAIN this model on a down-stream task to be able to use it for predictions and inference.\n"
     ]
    },
    {
     "data": {
      "application/vnd.jupyter.widget-view+json": {
       "model_id": "a71fe7f95db94b3687042a9e25943a10",
       "version_major": 2,
       "version_minor": 0
      },
      "text/plain": [
       "  0%|          | 0/200 [00:00<?, ?it/s]"
      ]
     },
     "metadata": {},
     "output_type": "display_data"
    },
    {
     "data": {
      "application/vnd.jupyter.widget-view+json": {
       "model_id": "2db7b67710fa40c586306254315b071a",
       "version_major": 2,
       "version_minor": 0
      },
      "text/plain": [
       "  0%|          | 0/3 [00:00<?, ?it/s]"
      ]
     },
     "metadata": {},
     "output_type": "display_data"
    },
    {
     "name": "stdout",
     "output_type": "stream",
     "text": [
      "{'eval_loss': 74.1200942993164, 'eval_precision': 0.11197151757899422, 'eval_recall': 0.14285714285714285, 'eval_f1': 0.1255426375929345, 'eval_runtime': 0.3524, 'eval_samples_per_second': 56.753, 'eval_steps_per_second': 8.513, 'epoch': 1.0}\n"
     ]
    },
    {
     "data": {
      "application/vnd.jupyter.widget-view+json": {
       "model_id": "f195b34a1ba84a33842b52e069b74ad2",
       "version_major": 2,
       "version_minor": 0
      },
      "text/plain": [
       "  0%|          | 0/3 [00:00<?, ?it/s]"
      ]
     },
     "metadata": {},
     "output_type": "display_data"
    },
    {
     "name": "stdout",
     "output_type": "stream",
     "text": [
      "{'eval_loss': 48.90926742553711, 'eval_precision': 0.11197151757899422, 'eval_recall': 0.14285714285714285, 'eval_f1': 0.1255426375929345, 'eval_runtime': 0.3735, 'eval_samples_per_second': 53.547, 'eval_steps_per_second': 8.032, 'epoch': 2.0}\n"
     ]
    },
    {
     "data": {
      "application/vnd.jupyter.widget-view+json": {
       "model_id": "bcd84e37f57841da8acc824889cb4e39",
       "version_major": 2,
       "version_minor": 0
      },
      "text/plain": [
       "  0%|          | 0/3 [00:00<?, ?it/s]"
      ]
     },
     "metadata": {},
     "output_type": "display_data"
    },
    {
     "name": "stdout",
     "output_type": "stream",
     "text": [
      "{'eval_loss': 23.455154418945312, 'eval_precision': 0.25528769565466813, 'eval_recall': 0.27942656713542496, 'eval_f1': 0.2666266570783005, 'eval_runtime': 0.3344, 'eval_samples_per_second': 59.81, 'eval_steps_per_second': 8.971, 'epoch': 3.0}\n"
     ]
    },
    {
     "data": {
      "application/vnd.jupyter.widget-view+json": {
       "model_id": "abade0b4851140fababbeaf4c7bbc140",
       "version_major": 2,
       "version_minor": 0
      },
      "text/plain": [
       "  0%|          | 0/3 [00:00<?, ?it/s]"
      ]
     },
     "metadata": {},
     "output_type": "display_data"
    },
    {
     "name": "stdout",
     "output_type": "stream",
     "text": [
      "{'eval_loss': 17.587406158447266, 'eval_precision': 0.2622019289872365, 'eval_recall': 0.28389734272087214, 'eval_f1': 0.2725399228899719, 'eval_runtime': 0.3635, 'eval_samples_per_second': 55.028, 'eval_steps_per_second': 8.254, 'epoch': 4.0}\n"
     ]
    },
    {
     "data": {
      "application/vnd.jupyter.widget-view+json": {
       "model_id": "582cdde508944bb5b1e5748b63efbc29",
       "version_major": 2,
       "version_minor": 0
      },
      "text/plain": [
       "  0%|          | 0/3 [00:00<?, ?it/s]"
      ]
     },
     "metadata": {},
     "output_type": "display_data"
    },
    {
     "name": "stdout",
     "output_type": "stream",
     "text": [
      "{'eval_loss': 15.722715377807617, 'eval_precision': 0.405466733788427, 'eval_recall': 0.3612635562738561, 'eval_f1': 0.37330947511413143, 'eval_runtime': 0.3596, 'eval_samples_per_second': 55.616, 'eval_steps_per_second': 8.342, 'epoch': 5.0}\n"
     ]
    },
    {
     "data": {
      "application/vnd.jupyter.widget-view+json": {
       "model_id": "9fa56018c0f343a59cd4813720680ea3",
       "version_major": 2,
       "version_minor": 0
      },
      "text/plain": [
       "  0%|          | 0/3 [00:00<?, ?it/s]"
      ]
     },
     "metadata": {},
     "output_type": "display_data"
    },
    {
     "name": "stdout",
     "output_type": "stream",
     "text": [
      "{'eval_loss': 13.677871704101562, 'eval_precision': 0.7724122737228685, 'eval_recall': 0.6122632972531553, 'eval_f1': 0.6443447506003764, 'eval_runtime': 0.3805, 'eval_samples_per_second': 52.561, 'eval_steps_per_second': 7.884, 'epoch': 6.0}\n"
     ]
    },
    {
     "data": {
      "application/vnd.jupyter.widget-view+json": {
       "model_id": "0fb2a7db8cb2450b933bf493895e07ab",
       "version_major": 2,
       "version_minor": 0
      },
      "text/plain": [
       "  0%|          | 0/3 [00:00<?, ?it/s]"
      ]
     },
     "metadata": {},
     "output_type": "display_data"
    },
    {
     "name": "stdout",
     "output_type": "stream",
     "text": [
      "{'eval_loss': 11.972696304321289, 'eval_precision': 0.7335669298156452, 'eval_recall': 0.7335849191832964, 'eval_f1': 0.7330135372174187, 'eval_runtime': 0.3335, 'eval_samples_per_second': 59.966, 'eval_steps_per_second': 8.995, 'epoch': 7.0}\n"
     ]
    },
    {
     "data": {
      "application/vnd.jupyter.widget-view+json": {
       "model_id": "ac0c45cadfbe4f5cb0c8c7fad5e5d43c",
       "version_major": 2,
       "version_minor": 0
      },
      "text/plain": [
       "  0%|          | 0/3 [00:00<?, ?it/s]"
      ]
     },
     "metadata": {},
     "output_type": "display_data"
    },
    {
     "name": "stdout",
     "output_type": "stream",
     "text": [
      "{'eval_loss': 10.858081817626953, 'eval_precision': 0.7654879449250911, 'eval_recall': 0.782836937197992, 'eval_f1': 0.7697726383457483, 'eval_runtime': 0.3683, 'eval_samples_per_second': 54.298, 'eval_steps_per_second': 8.145, 'epoch': 8.0}\n"
     ]
    },
    {
     "data": {
      "application/vnd.jupyter.widget-view+json": {
       "model_id": "76f1c2a2d56c4aedb298db049d446a49",
       "version_major": 2,
       "version_minor": 0
      },
      "text/plain": [
       "  0%|          | 0/3 [00:00<?, ?it/s]"
      ]
     },
     "metadata": {},
     "output_type": "display_data"
    },
    {
     "name": "stdout",
     "output_type": "stream",
     "text": [
      "{'eval_loss': 10.659294128417969, 'eval_precision': 0.7315917076330917, 'eval_recall': 0.7683747497134921, 'eval_f1': 0.7425172468085527, 'eval_runtime': 0.3417, 'eval_samples_per_second': 58.536, 'eval_steps_per_second': 8.78, 'epoch': 9.0}\n"
     ]
    },
    {
     "data": {
      "application/vnd.jupyter.widget-view+json": {
       "model_id": "7eaaf1df4b5c41668a538f4ae8d62cfc",
       "version_major": 2,
       "version_minor": 0
      },
      "text/plain": [
       "  0%|          | 0/3 [00:00<?, ?it/s]"
      ]
     },
     "metadata": {},
     "output_type": "display_data"
    },
    {
     "name": "stdout",
     "output_type": "stream",
     "text": [
      "{'eval_loss': 10.618353843688965, 'eval_precision': 0.7488755967985139, 'eval_recall': 0.7778985592373016, 'eval_f1': 0.755301008982495, 'eval_runtime': 0.3464, 'eval_samples_per_second': 57.733, 'eval_steps_per_second': 8.66, 'epoch': 10.0}\n",
      "{'train_runtime': 136.2364, 'train_samples_per_second': 5.799, 'train_steps_per_second': 1.468, 'train_loss': 39.1750244140625, 'epoch': 10.0}\n",
      "Finished training Davlan/afro-xlmr-base. Saved to ../models/afroxlmr-ner/checkpoint-200\n",
      "Loading model: 'google-bert/bert-base-multilingual-cased'\n",
      "\n",
      "Label distribution:\n",
      "B-PRODUCT: 58\n",
      "I-PRODUCT: 58\n",
      "O: 3372\n",
      "B-LOC: 65\n",
      "I-LOC: 539\n",
      "B-PRICE: 30\n",
      "I-PRICE: 83\n"
     ]
    },
    {
     "data": {
      "application/vnd.jupyter.widget-view+json": {
       "model_id": "15677c3dd9a945fc8188599bfdb0dd6b",
       "version_major": 2,
       "version_minor": 0
      },
      "text/plain": [
       "Casting the dataset:   0%|          | 0/99 [00:00<?, ? examples/s]"
      ]
     },
     "metadata": {},
     "output_type": "display_data"
    },
    {
     "name": "stderr",
     "output_type": "stream",
     "text": [
      "/home/nurye/Desktop/10_Academy/week_4/Amharic-E-commerce-Data-Extractor/AE-venv-py310/lib/python3.10/site-packages/huggingface_hub/file_download.py:943: FutureWarning: `resume_download` is deprecated and will be removed in version 1.0.0. Downloads always resume when possible. If you want to force a new download, use `force_download=True`.\n",
      "  warnings.warn(\n"
     ]
    },
    {
     "data": {
      "application/vnd.jupyter.widget-view+json": {
       "model_id": "4fd992dd77554d3dbfb5ffb14f0e9886",
       "version_major": 2,
       "version_minor": 0
      },
      "text/plain": [
       "Map:   0%|          | 0/79 [00:00<?, ? examples/s]"
      ]
     },
     "metadata": {},
     "output_type": "display_data"
    },
    {
     "data": {
      "application/vnd.jupyter.widget-view+json": {
       "model_id": "08fb707d178c47ba8f642f287e6248dc",
       "version_major": 2,
       "version_minor": 0
      },
      "text/plain": [
       "Map:   0%|          | 0/20 [00:00<?, ? examples/s]"
      ]
     },
     "metadata": {},
     "output_type": "display_data"
    },
    {
     "data": {
      "application/vnd.jupyter.widget-view+json": {
       "model_id": "3aa562d58df6424894a202fa979fa5bc",
       "version_major": 2,
       "version_minor": 0
      },
      "text/plain": [
       "  0%|          | 0/200 [00:00<?, ?it/s]"
      ]
     },
     "metadata": {},
     "output_type": "display_data"
    },
    {
     "data": {
      "application/vnd.jupyter.widget-view+json": {
       "model_id": "79dd669fc30c4cf1aab4ddfc7555fc6c",
       "version_major": 2,
       "version_minor": 0
      },
      "text/plain": [
       "  0%|          | 0/3 [00:00<?, ?it/s]"
      ]
     },
     "metadata": {},
     "output_type": "display_data"
    },
    {
     "name": "stdout",
     "output_type": "stream",
     "text": [
      "{'eval_loss': 30.56558609008789, 'eval_precision': 0.11508398469981707, 'eval_recall': 0.14285714285714285, 'eval_f1': 0.1274753615179147, 'eval_runtime': 0.1899, 'eval_samples_per_second': 105.342, 'eval_steps_per_second': 15.801, 'epoch': 1.0}\n"
     ]
    },
    {
     "data": {
      "application/vnd.jupyter.widget-view+json": {
       "model_id": "cbf72a0530ce452aa2b02fdc3a5314f9",
       "version_major": 2,
       "version_minor": 0
      },
      "text/plain": [
       "  0%|          | 0/3 [00:00<?, ?it/s]"
      ]
     },
     "metadata": {},
     "output_type": "display_data"
    },
    {
     "name": "stdout",
     "output_type": "stream",
     "text": [
      "{'eval_loss': 25.76980972290039, 'eval_precision': 0.2302089407191448, 'eval_recall': 0.21203904151881028, 'eval_f1': 0.21726424637518266, 'eval_runtime': 0.1833, 'eval_samples_per_second': 109.108, 'eval_steps_per_second': 16.366, 'epoch': 2.0}\n"
     ]
    },
    {
     "data": {
      "application/vnd.jupyter.widget-view+json": {
       "model_id": "70dea7f068be4b6e8cb5be35c9d734ca",
       "version_major": 2,
       "version_minor": 0
      },
      "text/plain": [
       "  0%|          | 0/3 [00:00<?, ?it/s]"
      ]
     },
     "metadata": {},
     "output_type": "display_data"
    },
    {
     "name": "stdout",
     "output_type": "stream",
     "text": [
      "{'eval_loss': 22.149085998535156, 'eval_precision': 0.24962875573007462, 'eval_recall': 0.2115294485236682, 'eval_f1': 0.22162812994715603, 'eval_runtime': 0.2005, 'eval_samples_per_second': 99.757, 'eval_steps_per_second': 14.963, 'epoch': 3.0}\n"
     ]
    },
    {
     "data": {
      "application/vnd.jupyter.widget-view+json": {
       "model_id": "7b117d32338f454a8e96a9fadaa9df04",
       "version_major": 2,
       "version_minor": 0
      },
      "text/plain": [
       "  0%|          | 0/3 [00:00<?, ?it/s]"
      ]
     },
     "metadata": {},
     "output_type": "display_data"
    },
    {
     "name": "stdout",
     "output_type": "stream",
     "text": [
      "{'eval_loss': 16.26694107055664, 'eval_precision': 0.29574039603037117, 'eval_recall': 0.39303196673138874, 'eval_f1': 0.32996325900431145, 'eval_runtime': 0.1991, 'eval_samples_per_second': 100.447, 'eval_steps_per_second': 15.067, 'epoch': 4.0}\n"
     ]
    },
    {
     "data": {
      "application/vnd.jupyter.widget-view+json": {
       "model_id": "6a56d6104a2a4de8a35ae39918961a27",
       "version_major": 2,
       "version_minor": 0
      },
      "text/plain": [
       "  0%|          | 0/3 [00:00<?, ?it/s]"
      ]
     },
     "metadata": {},
     "output_type": "display_data"
    },
    {
     "name": "stdout",
     "output_type": "stream",
     "text": [
      "{'eval_loss': 14.77794075012207, 'eval_precision': 0.3121071761507404, 'eval_recall': 0.3997831440027972, 'eval_f1': 0.34373121965041264, 'eval_runtime': 0.1959, 'eval_samples_per_second': 102.117, 'eval_steps_per_second': 15.317, 'epoch': 5.0}\n"
     ]
    },
    {
     "data": {
      "application/vnd.jupyter.widget-view+json": {
       "model_id": "507a3ee5f32a45a1bc1b203fee9dc21f",
       "version_major": 2,
       "version_minor": 0
      },
      "text/plain": [
       "  0%|          | 0/3 [00:00<?, ?it/s]"
      ]
     },
     "metadata": {},
     "output_type": "display_data"
    },
    {
     "name": "stdout",
     "output_type": "stream",
     "text": [
      "{'eval_loss': 12.797861099243164, 'eval_precision': 0.387507678656747, 'eval_recall': 0.3984477871761109, 'eval_f1': 0.3905868982683854, 'eval_runtime': 0.1857, 'eval_samples_per_second': 107.716, 'eval_steps_per_second': 16.157, 'epoch': 6.0}\n"
     ]
    },
    {
     "data": {
      "application/vnd.jupyter.widget-view+json": {
       "model_id": "451e5572116c46cab8b64df3f8f8c691",
       "version_major": 2,
       "version_minor": 0
      },
      "text/plain": [
       "  0%|          | 0/3 [00:00<?, ?it/s]"
      ]
     },
     "metadata": {},
     "output_type": "display_data"
    },
    {
     "name": "stdout",
     "output_type": "stream",
     "text": [
      "{'eval_loss': 14.636128425598145, 'eval_precision': 0.5197639430823288, 'eval_recall': 0.4586355840691101, 'eval_f1': 0.4069839864514952, 'eval_runtime': 0.1977, 'eval_samples_per_second': 101.165, 'eval_steps_per_second': 15.175, 'epoch': 7.0}\n"
     ]
    },
    {
     "data": {
      "application/vnd.jupyter.widget-view+json": {
       "model_id": "b0e6e22adadb4458bdc1f40b69cff37f",
       "version_major": 2,
       "version_minor": 0
      },
      "text/plain": [
       "  0%|          | 0/3 [00:00<?, ?it/s]"
      ]
     },
     "metadata": {},
     "output_type": "display_data"
    },
    {
     "name": "stdout",
     "output_type": "stream",
     "text": [
      "{'eval_loss': 11.8098726272583, 'eval_precision': 0.7522411569548224, 'eval_recall': 0.47535023430977186, 'eval_f1': 0.4526444605454682, 'eval_runtime': 0.1857, 'eval_samples_per_second': 107.713, 'eval_steps_per_second': 16.157, 'epoch': 8.0}\n"
     ]
    },
    {
     "data": {
      "application/vnd.jupyter.widget-view+json": {
       "model_id": "181fa9945af149f0a358c49bac7e1691",
       "version_major": 2,
       "version_minor": 0
      },
      "text/plain": [
       "  0%|          | 0/3 [00:00<?, ?it/s]"
      ]
     },
     "metadata": {},
     "output_type": "display_data"
    },
    {
     "name": "stdout",
     "output_type": "stream",
     "text": [
      "{'eval_loss': 10.895940780639648, 'eval_precision': 0.7569989534275249, 'eval_recall': 0.49410142531529816, 'eval_f1': 0.4861420584150848, 'eval_runtime': 0.1936, 'eval_samples_per_second': 103.299, 'eval_steps_per_second': 15.495, 'epoch': 9.0}\n"
     ]
    },
    {
     "data": {
      "application/vnd.jupyter.widget-view+json": {
       "model_id": "bf3db92144394d988fd51f5adaf5b24f",
       "version_major": 2,
       "version_minor": 0
      },
      "text/plain": [
       "  0%|          | 0/3 [00:00<?, ?it/s]"
      ]
     },
     "metadata": {},
     "output_type": "display_data"
    },
    {
     "name": "stdout",
     "output_type": "stream",
     "text": [
      "{'eval_loss': 11.097259521484375, 'eval_precision': 0.6348895357516048, 'eval_recall': 0.5333871396010125, 'eval_f1': 0.528353257131412, 'eval_runtime': 0.1883, 'eval_samples_per_second': 106.229, 'eval_steps_per_second': 15.934, 'epoch': 10.0}\n",
      "{'train_runtime': 77.5336, 'train_samples_per_second': 10.189, 'train_steps_per_second': 2.58, 'train_loss': 24.244951171875, 'epoch': 10.0}\n",
      "Finished training google-bert/bert-base-multilingual-cased. Saved to ../models/mbert-ner/checkpoint-200\n"
     ]
    }
   ],
   "source": [
    "from src.train import train_model\n",
    "from src.config import MODEL_LIST\n",
    "\n",
    "for model_name, model_dir in MODEL_LIST.items():\n",
    "    print(\"Loading model:\", repr(model_name))  #  Add this debug print\n",
    "    trainer, model, tokenizer = train_model(model_name, model_dir)\n",
    "    print(f\"Finished training {model_name}. Saved to {model_dir}\")\n"
   ]
  },
  {
   "cell_type": "code",
   "execution_count": null,
   "id": "1c55f37d",
   "metadata": {},
   "outputs": [
    {
     "name": "stdout",
     "output_type": "stream",
     "text": [
      "\n",
      " Testing: xlm-roberta-base\n"
     ]
    },
    {
     "name": "stderr",
     "output_type": "stream",
     "text": [
      "/home/nurye/Desktop/10_Academy/week_4/Amharic-E-commerce-Data-Extractor/AE-venv-py310/lib/python3.10/site-packages/huggingface_hub/file_download.py:943: FutureWarning: `resume_download` is deprecated and will be removed in version 1.0.0. Downloads always resume when possible. If you want to force a new download, use `force_download=True`.\n",
      "  warnings.warn(\n"
     ]
    },
    {
     "name": "stdout",
     "output_type": "stream",
     "text": [
      "ስልኩ        → B-PRODUCT\n",
      "0911223344 → O\n",
      "ነው         → O\n",
      "አድራሻችን     → B-LOC\n",
      "አዲስ        → I-LOC\n",
      "አበባ        → I-LOC\n",
      "ህንፃ        → O\n",
      "12         → O\n",
      "ዋጋ         → B-PRICE\n",
      "45         → I-PRICE\n",
      "ብር         → I-PRICE\n",
      "\n",
      " Testing: rasyosef/bert-tiny-amharic\n"
     ]
    },
    {
     "name": "stderr",
     "output_type": "stream",
     "text": [
      "Some weights of BertModel were not initialized from the model checkpoint at rasyosef/bert-tiny-amharic and are newly initialized: ['bert.pooler.dense.bias', 'bert.pooler.dense.weight']\n",
      "You should probably TRAIN this model on a down-stream task to be able to use it for predictions and inference.\n"
     ]
    },
    {
     "name": "stdout",
     "output_type": "stream",
     "text": [
      "ስልኩ        → O\n",
      "0911223344 → O\n",
      "ነው         → O\n",
      "አድራሻችን     → B-LOC\n",
      "አዲስ        → O\n",
      "አበባ        → O\n",
      "ህንፃ        → O\n",
      "12         → O\n",
      "ዋጋ         → O\n",
      "45         → O\n",
      "ብር         → O\n",
      "\n",
      " Testing: Davlan/afro-xlmr-base\n"
     ]
    },
    {
     "name": "stderr",
     "output_type": "stream",
     "text": [
      "Some weights of XLMRobertaModel were not initialized from the model checkpoint at Davlan/afro-xlmr-base and are newly initialized: ['roberta.pooler.dense.bias', 'roberta.pooler.dense.weight']\n",
      "You should probably TRAIN this model on a down-stream task to be able to use it for predictions and inference.\n"
     ]
    },
    {
     "name": "stdout",
     "output_type": "stream",
     "text": [
      "ስልኩ        → B-PRODUCT\n",
      "0911223344 → I-PRODUCT\n",
      "ነው         → O\n",
      "አድራሻችን     → O\n",
      "አዲስ        → O\n",
      "አበባ        → O\n",
      "ህንፃ        → O\n",
      "12         → O\n",
      "ዋጋ         → O\n",
      "45         → O\n",
      "ብር         → O\n",
      "\n",
      " Testing: google-bert/bert-base-multilingual-cased\n",
      "ስልኩ        → O\n",
      "0911223344 → O\n",
      "ነው         → O\n",
      "አድራሻችን     → B-LOC\n",
      "አዲስ        → I-LOC\n",
      "አበባ        → I-LOC\n",
      "ህንፃ        → O\n",
      "12         → O\n",
      "ዋጋ         → O\n",
      "45         → O\n",
      "ብር         → O\n"
     ]
    }
   ],
   "source": [
    "from src.predict import load_model, predict_text\n",
    "from src.config import MODEL_LIST\n",
    "text = \"ስልኩ 0911223344 ነው አድራሻችን አዲስ አበባ ህንፃ 12 ዋጋ 45 ብር\"\n",
    "for model_name, path in MODEL_LIST.items():\n",
    "    print(f\"\\n Testing: {model_name}\")\n",
    "    model, tokenizer = load_model(model_name, path)\n",
    "    predictions = predict_text(text, model, tokenizer)\n",
    "    for word, tag in predictions:\n",
    "        print(f\"{word:<10} → {tag}\")\n"
   ]
  }
 ],
 "metadata": {
  "kernelspec": {
   "display_name": "AE-venv-py310",
   "language": "python",
   "name": "python3"
  },
  "language_info": {
   "codemirror_mode": {
    "name": "ipython",
    "version": 3
   },
   "file_extension": ".py",
   "mimetype": "text/x-python",
   "name": "python",
   "nbconvert_exporter": "python",
   "pygments_lexer": "ipython3",
   "version": "3.10.18"
  }
 },
 "nbformat": 4,
 "nbformat_minor": 5
}
