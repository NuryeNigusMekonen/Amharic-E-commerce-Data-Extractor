{
 "cells": [
  {
   "cell_type": "code",
   "execution_count": null,
   "id": "4f1dac7d",
   "metadata": {},
   "outputs": [
    {
     "name": "stderr",
     "output_type": "stream",
     "text": [
      "/home/nurye/Desktop/10_Academy/week_4/Amharic-E-commerce-Data-Extractor/AE-venv-py310/lib/python3.10/site-packages/huggingface_hub/file_download.py:943: FutureWarning: `resume_download` is deprecated and will be removed in version 1.0.0. Downloads always resume when possible. If you want to force a new download, use `force_download=True`.\n",
      "  warnings.warn(\n"
     ]
    },
    {
     "name": "stdout",
     "output_type": "stream",
     "text": [
      "Scoring Sheger online-store...\n",
      "Scoring ልዩ እቃ...\n",
      "Scoring SINA KIDS/ሲና ኪድስⓇ...\n",
      "Scoring ማራኪ ცЯﾑŋの™...\n",
      "Scoring qnash.com - ቅናሽ ®️...\n",
      "Scoring ምርጥ ዕቃ...\n",
      "Scoring https://t.me/ZemenExpress...\n",
      "Scoring https://t.me/Fashiontera...\n",
      "Scoring https://t.me/nevacomputer...\n",
      "Scoring https://t.me/ethio_brand_collection...\n",
      "Scoring https://t.me/Shewabrand...\n"
     ]
    },
    {
     "data": {
      "application/vnd.microsoft.datawrangler.viewer.v0+json": {
       "columns": [
        {
         "name": "index",
         "rawType": "int64",
         "type": "integer"
        },
        {
         "name": "Vendor",
         "rawType": "object",
         "type": "string"
        },
        {
         "name": "Posts/Week",
         "rawType": "float64",
         "type": "float"
        },
        {
         "name": "Avg. Views/Post",
         "rawType": "float64",
         "type": "float"
        },
        {
         "name": "Avg. Price (ETB)",
         "rawType": "float64",
         "type": "float"
        },
        {
         "name": "Lending Score",
         "rawType": "float64",
         "type": "float"
        },
        {
         "name": "Top Product",
         "rawType": "object",
         "type": "string"
        },
        {
         "name": "Top Price",
         "rawType": "object",
         "type": "string"
        }
       ],
       "ref": "c9c6db9c-ac7d-4e0e-b4cb-280867475a91",
       "rows": [
        [
         "9",
         "https://t.me/ethio_brand_collection",
         "8.56",
         "27389.74",
         "2419.65",
         "13699.15",
         "",
         "size Price 3500 birr 📌አድራሻ-ሜክሲኮ"
        ],
        [
         "10",
         "https://t.me/Shewabrand",
         "5.86",
         "8979.33",
         "0.0",
         "4492.6",
         "🔥Two pieces Sets🔥",
         ""
        ],
        [
         "6",
         "https://t.me/ZemenExpress",
         "19.5",
         "3534.26",
         "924.32",
         "1776.88",
         "💥💥...................................💥💥",
         "ዋጋ፦ 💲🏷 1500 ብር"
        ],
        [
         "8",
         "https://t.me/nevacomputer",
         "0.82",
         "3490.12",
         "94142.86",
         "1745.47",
         "",
         "Price 129500"
        ],
        [
         "7",
         "https://t.me/Fashiontera",
         "1.65",
         "2925.78",
         "1850.06",
         "1463.71",
         "",
         "Price 3500"
        ],
        [
         "5",
         "ምርጥ ዕቃ",
         "16.72",
         "2079.59",
         "4834924.67",
         "1048.15",
         "📣",
         ""
        ],
        [
         "0",
         "Sheger online-store",
         "18.15",
         "2074.64",
         "1262.37",
         "1046.39",
         "💥 Sonoshi",
         "ዋጋ፦ ✅ 6,600 ብር 🏢"
        ],
        [
         "3",
         "ማራኪ ცЯﾑŋの™",
         "12.5",
         "2040.22",
         "2261.64",
         "1026.36",
         "🏷Quality New",
         "Price: 2800 Br"
        ],
        [
         "4",
         "qnash.com - ቅናሽ ®️",
         "13.66",
         "2035.13",
         "1707407.85",
         "1024.39",
         "😍",
         "ዋጋ ብር ዋጋ ዋጋ1100 ዋጋ ዋጋ ዋጋ ዋጋ"
        ],
        [
         "1",
         "ልዩ እቃ",
         "9.23",
         "2019.39",
         "7023566.47",
         "1014.31",
         "🔹🔹Ice",
         "ዋጋ 1200✔️#ክፍያዎን_በሞባይል_ባንኪንግ_መፈፀምም_ይችላሉ"
        ]
       ],
       "shape": {
        "columns": 7,
        "rows": 10
       }
      },
      "text/html": [
       "<div>\n",
       "<style scoped>\n",
       "    .dataframe tbody tr th:only-of-type {\n",
       "        vertical-align: middle;\n",
       "    }\n",
       "\n",
       "    .dataframe tbody tr th {\n",
       "        vertical-align: top;\n",
       "    }\n",
       "\n",
       "    .dataframe thead th {\n",
       "        text-align: right;\n",
       "    }\n",
       "</style>\n",
       "<table border=\"1\" class=\"dataframe\">\n",
       "  <thead>\n",
       "    <tr style=\"text-align: right;\">\n",
       "      <th></th>\n",
       "      <th>Vendor</th>\n",
       "      <th>Posts/Week</th>\n",
       "      <th>Avg. Views/Post</th>\n",
       "      <th>Avg. Price (ETB)</th>\n",
       "      <th>Lending Score</th>\n",
       "      <th>Top Product</th>\n",
       "      <th>Top Price</th>\n",
       "    </tr>\n",
       "  </thead>\n",
       "  <tbody>\n",
       "    <tr>\n",
       "      <th>9</th>\n",
       "      <td>https://t.me/ethio_brand_collection</td>\n",
       "      <td>8.56</td>\n",
       "      <td>27389.74</td>\n",
       "      <td>2419.65</td>\n",
       "      <td>13699.15</td>\n",
       "      <td></td>\n",
       "      <td>size Price 3500 birr 📌አድራሻ-ሜክሲኮ</td>\n",
       "    </tr>\n",
       "    <tr>\n",
       "      <th>10</th>\n",
       "      <td>https://t.me/Shewabrand</td>\n",
       "      <td>5.86</td>\n",
       "      <td>8979.33</td>\n",
       "      <td>0.00</td>\n",
       "      <td>4492.60</td>\n",
       "      <td>🔥Two pieces Sets🔥</td>\n",
       "      <td></td>\n",
       "    </tr>\n",
       "    <tr>\n",
       "      <th>6</th>\n",
       "      <td>https://t.me/ZemenExpress</td>\n",
       "      <td>19.50</td>\n",
       "      <td>3534.26</td>\n",
       "      <td>924.32</td>\n",
       "      <td>1776.88</td>\n",
       "      <td>💥💥...................................💥💥</td>\n",
       "      <td>ዋጋ፦ 💲🏷 1500 ብር</td>\n",
       "    </tr>\n",
       "    <tr>\n",
       "      <th>8</th>\n",
       "      <td>https://t.me/nevacomputer</td>\n",
       "      <td>0.82</td>\n",
       "      <td>3490.12</td>\n",
       "      <td>94142.86</td>\n",
       "      <td>1745.47</td>\n",
       "      <td></td>\n",
       "      <td>Price 129500</td>\n",
       "    </tr>\n",
       "    <tr>\n",
       "      <th>7</th>\n",
       "      <td>https://t.me/Fashiontera</td>\n",
       "      <td>1.65</td>\n",
       "      <td>2925.78</td>\n",
       "      <td>1850.06</td>\n",
       "      <td>1463.71</td>\n",
       "      <td></td>\n",
       "      <td>Price 3500</td>\n",
       "    </tr>\n",
       "    <tr>\n",
       "      <th>5</th>\n",
       "      <td>ምርጥ ዕቃ</td>\n",
       "      <td>16.72</td>\n",
       "      <td>2079.59</td>\n",
       "      <td>4834924.67</td>\n",
       "      <td>1048.15</td>\n",
       "      <td>📣</td>\n",
       "      <td></td>\n",
       "    </tr>\n",
       "    <tr>\n",
       "      <th>0</th>\n",
       "      <td>Sheger online-store</td>\n",
       "      <td>18.15</td>\n",
       "      <td>2074.64</td>\n",
       "      <td>1262.37</td>\n",
       "      <td>1046.39</td>\n",
       "      <td>💥 Sonoshi</td>\n",
       "      <td>ዋጋ፦ ✅ 6,600 ብር 🏢</td>\n",
       "    </tr>\n",
       "    <tr>\n",
       "      <th>3</th>\n",
       "      <td>ማራኪ ცЯﾑŋの™</td>\n",
       "      <td>12.50</td>\n",
       "      <td>2040.22</td>\n",
       "      <td>2261.64</td>\n",
       "      <td>1026.36</td>\n",
       "      <td>🏷Quality New</td>\n",
       "      <td>Price: 2800 Br</td>\n",
       "    </tr>\n",
       "    <tr>\n",
       "      <th>4</th>\n",
       "      <td>qnash.com - ቅናሽ ®️</td>\n",
       "      <td>13.66</td>\n",
       "      <td>2035.13</td>\n",
       "      <td>1707407.85</td>\n",
       "      <td>1024.39</td>\n",
       "      <td>😍</td>\n",
       "      <td>ዋጋ ብር ዋጋ ዋጋ1100 ዋጋ ዋጋ ዋጋ ዋጋ</td>\n",
       "    </tr>\n",
       "    <tr>\n",
       "      <th>1</th>\n",
       "      <td>ልዩ እቃ</td>\n",
       "      <td>9.23</td>\n",
       "      <td>2019.39</td>\n",
       "      <td>7023566.47</td>\n",
       "      <td>1014.31</td>\n",
       "      <td>🔹🔹Ice</td>\n",
       "      <td>ዋጋ 1200✔️#ክፍያዎን_በሞባይል_ባንኪንግ_መፈፀምም_ይችላሉ</td>\n",
       "    </tr>\n",
       "  </tbody>\n",
       "</table>\n",
       "</div>"
      ],
      "text/plain": [
       "                                 Vendor  Posts/Week  Avg. Views/Post  \\\n",
       "9   https://t.me/ethio_brand_collection        8.56         27389.74   \n",
       "10              https://t.me/Shewabrand        5.86          8979.33   \n",
       "6             https://t.me/ZemenExpress       19.50          3534.26   \n",
       "8             https://t.me/nevacomputer        0.82          3490.12   \n",
       "7              https://t.me/Fashiontera        1.65          2925.78   \n",
       "5                                ምርጥ ዕቃ       16.72          2079.59   \n",
       "0                   Sheger online-store       18.15          2074.64   \n",
       "3                            ማራኪ ცЯﾑŋの™       12.50          2040.22   \n",
       "4                    qnash.com - ቅናሽ ®️       13.66          2035.13   \n",
       "1                                 ልዩ እቃ        9.23          2019.39   \n",
       "\n",
       "    Avg. Price (ETB)  Lending Score                              Top Product  \\\n",
       "9            2419.65       13699.15                                            \n",
       "10              0.00        4492.60                        🔥Two pieces Sets🔥   \n",
       "6             924.32        1776.88  💥💥...................................💥💥   \n",
       "8           94142.86        1745.47                                            \n",
       "7            1850.06        1463.71                                            \n",
       "5         4834924.67        1048.15                                        📣   \n",
       "0            1262.37        1046.39                                💥 Sonoshi   \n",
       "3            2261.64        1026.36                             🏷Quality New   \n",
       "4         1707407.85        1024.39                                        😍   \n",
       "1         7023566.47        1014.31                                    🔹🔹Ice   \n",
       "\n",
       "                                 Top Price  \n",
       "9          size Price 3500 birr 📌አድራሻ-ሜክሲኮ  \n",
       "10                                          \n",
       "6                           ዋጋ፦ 💲🏷 1500 ብር  \n",
       "8                             Price 129500  \n",
       "7                               Price 3500  \n",
       "5                                           \n",
       "0                         ዋጋ፦ ✅ 6,600 ብር 🏢  \n",
       "3                           Price: 2800 Br  \n",
       "4              ዋጋ ብር ዋጋ ዋጋ1100 ዋጋ ዋጋ ዋጋ ዋጋ  \n",
       "1   ዋጋ 1200✔️#ክፍያዎን_በሞባይል_ባንኪንግ_መፈፀምም_ይችላሉ  "
      ]
     },
     "execution_count": 1,
     "metadata": {},
     "output_type": "execute_result"
    }
   ],
   "source": [
    "# task-6 vendor scorecard\n",
    "import sys, os\n",
    "sys.path.append(os.path.abspath(\"..\"))\n",
    "from src.vendor_scorecard import generate_scorecard\n",
    "## passing our models \n",
    "scorecard = generate_scorecard(\n",
    "    \"../data/raw/merged_cleaned.csv\",\n",
    "    \"xlm-roberta-base\",  \n",
    "    \"../models/xlm-roberta-ner/checkpoint-200\"  # Path to checkpoint with model.safetensors\n",
    ")\n",
    "\n",
    "scorecard.head(10)"
   ]
  },
  {
   "cell_type": "code",
   "execution_count": 3,
   "id": "cfcb5f39",
   "metadata": {},
   "outputs": [
    {
     "data": {
      "application/vnd.microsoft.datawrangler.viewer.v0+json": {
       "columns": [
        {
         "name": "index",
         "rawType": "int64",
         "type": "integer"
        },
        {
         "name": "Vendor",
         "rawType": "object",
         "type": "string"
        },
        {
         "name": "Posts/Week",
         "rawType": "float64",
         "type": "float"
        },
        {
         "name": "Avg. Views/Post",
         "rawType": "float64",
         "type": "float"
        },
        {
         "name": "Avg. Price (ETB)",
         "rawType": "float64",
         "type": "float"
        },
        {
         "name": "Lending Score",
         "rawType": "float64",
         "type": "float"
        },
        {
         "name": "Top Product",
         "rawType": "object",
         "type": "string"
        },
        {
         "name": "Top Price",
         "rawType": "object",
         "type": "string"
        }
       ],
       "ref": "49207eaa-114a-4d26-8361-8ae5b61496bc",
       "rows": [
        [
         "9",
         "https://t.me/ethio_brand_collection",
         "8.56",
         "27389.74",
         "2419.65",
         "13699.15",
         "",
         "size Price 3500 birr 📌አድራሻ-ሜክሲኮ"
        ],
        [
         "10",
         "https://t.me/Shewabrand",
         "5.86",
         "8979.33",
         "0.0",
         "4492.6",
         "🔥Two pieces Sets🔥",
         ""
        ],
        [
         "6",
         "https://t.me/ZemenExpress",
         "19.5",
         "3534.26",
         "924.32",
         "1776.88",
         "💥💥...................................💥💥",
         "ዋጋ፦ 💲🏷 1500 ብር"
        ],
        [
         "8",
         "https://t.me/nevacomputer",
         "0.82",
         "3490.12",
         "94142.86",
         "1745.47",
         "",
         "Price 129500"
        ],
        [
         "7",
         "https://t.me/Fashiontera",
         "1.65",
         "2925.78",
         "1850.06",
         "1463.71",
         "",
         "Price 3500"
        ],
        [
         "5",
         "ምርጥ ዕቃ",
         "16.72",
         "2079.59",
         "4834924.67",
         "1048.15",
         "📣",
         ""
        ],
        [
         "0",
         "Sheger online-store",
         "18.15",
         "2074.64",
         "1262.37",
         "1046.39",
         "💥 Sonoshi",
         "ዋጋ፦ ✅ 6,600 ብር 🏢"
        ],
        [
         "3",
         "ማራኪ ცЯﾑŋの™",
         "12.5",
         "2040.22",
         "2261.64",
         "1026.36",
         "🏷Quality New",
         "Price: 2800 Br"
        ],
        [
         "4",
         "qnash.com - ቅናሽ ®️",
         "13.66",
         "2035.13",
         "1707407.85",
         "1024.39",
         "😍",
         "ዋጋ ብር ዋጋ ዋጋ1100 ዋጋ ዋጋ ዋጋ ዋጋ"
        ],
        [
         "1",
         "ልዩ እቃ",
         "9.23",
         "2019.39",
         "7023566.47",
         "1014.31",
         "🔹🔹Ice",
         "ዋጋ 1200✔️#ክፍያዎን_በሞባይል_ባንኪንግ_መፈፀምም_ይችላሉ"
        ]
       ],
       "shape": {
        "columns": 7,
        "rows": 10
       }
      },
      "text/html": [
       "<div>\n",
       "<style scoped>\n",
       "    .dataframe tbody tr th:only-of-type {\n",
       "        vertical-align: middle;\n",
       "    }\n",
       "\n",
       "    .dataframe tbody tr th {\n",
       "        vertical-align: top;\n",
       "    }\n",
       "\n",
       "    .dataframe thead th {\n",
       "        text-align: right;\n",
       "    }\n",
       "</style>\n",
       "<table border=\"1\" class=\"dataframe\">\n",
       "  <thead>\n",
       "    <tr style=\"text-align: right;\">\n",
       "      <th></th>\n",
       "      <th>Vendor</th>\n",
       "      <th>Posts/Week</th>\n",
       "      <th>Avg. Views/Post</th>\n",
       "      <th>Avg. Price (ETB)</th>\n",
       "      <th>Lending Score</th>\n",
       "      <th>Top Product</th>\n",
       "      <th>Top Price</th>\n",
       "    </tr>\n",
       "  </thead>\n",
       "  <tbody>\n",
       "    <tr>\n",
       "      <th>9</th>\n",
       "      <td>https://t.me/ethio_brand_collection</td>\n",
       "      <td>8.56</td>\n",
       "      <td>27389.74</td>\n",
       "      <td>2419.65</td>\n",
       "      <td>13699.15</td>\n",
       "      <td></td>\n",
       "      <td>size Price 3500 birr 📌አድራሻ-ሜክሲኮ</td>\n",
       "    </tr>\n",
       "    <tr>\n",
       "      <th>10</th>\n",
       "      <td>https://t.me/Shewabrand</td>\n",
       "      <td>5.86</td>\n",
       "      <td>8979.33</td>\n",
       "      <td>0.00</td>\n",
       "      <td>4492.60</td>\n",
       "      <td>🔥Two pieces Sets🔥</td>\n",
       "      <td></td>\n",
       "    </tr>\n",
       "    <tr>\n",
       "      <th>6</th>\n",
       "      <td>https://t.me/ZemenExpress</td>\n",
       "      <td>19.50</td>\n",
       "      <td>3534.26</td>\n",
       "      <td>924.32</td>\n",
       "      <td>1776.88</td>\n",
       "      <td>💥💥...................................💥💥</td>\n",
       "      <td>ዋጋ፦ 💲🏷 1500 ብር</td>\n",
       "    </tr>\n",
       "    <tr>\n",
       "      <th>8</th>\n",
       "      <td>https://t.me/nevacomputer</td>\n",
       "      <td>0.82</td>\n",
       "      <td>3490.12</td>\n",
       "      <td>94142.86</td>\n",
       "      <td>1745.47</td>\n",
       "      <td></td>\n",
       "      <td>Price 129500</td>\n",
       "    </tr>\n",
       "    <tr>\n",
       "      <th>7</th>\n",
       "      <td>https://t.me/Fashiontera</td>\n",
       "      <td>1.65</td>\n",
       "      <td>2925.78</td>\n",
       "      <td>1850.06</td>\n",
       "      <td>1463.71</td>\n",
       "      <td></td>\n",
       "      <td>Price 3500</td>\n",
       "    </tr>\n",
       "    <tr>\n",
       "      <th>5</th>\n",
       "      <td>ምርጥ ዕቃ</td>\n",
       "      <td>16.72</td>\n",
       "      <td>2079.59</td>\n",
       "      <td>4834924.67</td>\n",
       "      <td>1048.15</td>\n",
       "      <td>📣</td>\n",
       "      <td></td>\n",
       "    </tr>\n",
       "    <tr>\n",
       "      <th>0</th>\n",
       "      <td>Sheger online-store</td>\n",
       "      <td>18.15</td>\n",
       "      <td>2074.64</td>\n",
       "      <td>1262.37</td>\n",
       "      <td>1046.39</td>\n",
       "      <td>💥 Sonoshi</td>\n",
       "      <td>ዋጋ፦ ✅ 6,600 ብር 🏢</td>\n",
       "    </tr>\n",
       "    <tr>\n",
       "      <th>3</th>\n",
       "      <td>ማራኪ ცЯﾑŋの™</td>\n",
       "      <td>12.50</td>\n",
       "      <td>2040.22</td>\n",
       "      <td>2261.64</td>\n",
       "      <td>1026.36</td>\n",
       "      <td>🏷Quality New</td>\n",
       "      <td>Price: 2800 Br</td>\n",
       "    </tr>\n",
       "    <tr>\n",
       "      <th>4</th>\n",
       "      <td>qnash.com - ቅናሽ ®️</td>\n",
       "      <td>13.66</td>\n",
       "      <td>2035.13</td>\n",
       "      <td>1707407.85</td>\n",
       "      <td>1024.39</td>\n",
       "      <td>😍</td>\n",
       "      <td>ዋጋ ብር ዋጋ ዋጋ1100 ዋጋ ዋጋ ዋጋ ዋጋ</td>\n",
       "    </tr>\n",
       "    <tr>\n",
       "      <th>1</th>\n",
       "      <td>ልዩ እቃ</td>\n",
       "      <td>9.23</td>\n",
       "      <td>2019.39</td>\n",
       "      <td>7023566.47</td>\n",
       "      <td>1014.31</td>\n",
       "      <td>🔹🔹Ice</td>\n",
       "      <td>ዋጋ 1200✔️#ክፍያዎን_በሞባይል_ባንኪንግ_መፈፀምም_ይችላሉ</td>\n",
       "    </tr>\n",
       "  </tbody>\n",
       "</table>\n",
       "</div>"
      ],
      "text/plain": [
       "                                 Vendor  Posts/Week  Avg. Views/Post  \\\n",
       "9   https://t.me/ethio_brand_collection        8.56         27389.74   \n",
       "10              https://t.me/Shewabrand        5.86          8979.33   \n",
       "6             https://t.me/ZemenExpress       19.50          3534.26   \n",
       "8             https://t.me/nevacomputer        0.82          3490.12   \n",
       "7              https://t.me/Fashiontera        1.65          2925.78   \n",
       "5                                ምርጥ ዕቃ       16.72          2079.59   \n",
       "0                   Sheger online-store       18.15          2074.64   \n",
       "3                            ማራኪ ცЯﾑŋの™       12.50          2040.22   \n",
       "4                    qnash.com - ቅናሽ ®️       13.66          2035.13   \n",
       "1                                 ልዩ እቃ        9.23          2019.39   \n",
       "\n",
       "    Avg. Price (ETB)  Lending Score                              Top Product  \\\n",
       "9            2419.65       13699.15                                            \n",
       "10              0.00        4492.60                        🔥Two pieces Sets🔥   \n",
       "6             924.32        1776.88  💥💥...................................💥💥   \n",
       "8           94142.86        1745.47                                            \n",
       "7            1850.06        1463.71                                            \n",
       "5         4834924.67        1048.15                                        📣   \n",
       "0            1262.37        1046.39                                💥 Sonoshi   \n",
       "3            2261.64        1026.36                             🏷Quality New   \n",
       "4         1707407.85        1024.39                                        😍   \n",
       "1         7023566.47        1014.31                                    🔹🔹Ice   \n",
       "\n",
       "                                 Top Price  \n",
       "9          size Price 3500 birr 📌አድራሻ-ሜክሲኮ  \n",
       "10                                          \n",
       "6                           ዋጋ፦ 💲🏷 1500 ብር  \n",
       "8                             Price 129500  \n",
       "7                               Price 3500  \n",
       "5                                           \n",
       "0                         ዋጋ፦ ✅ 6,600 ብር 🏢  \n",
       "3                           Price: 2800 Br  \n",
       "4              ዋጋ ብር ዋጋ ዋጋ1100 ዋጋ ዋጋ ዋጋ ዋጋ  \n",
       "1   ዋጋ 1200✔️#ክፍያዎን_በሞባይል_ባንኪንግ_መፈፀምም_ይችላሉ  "
      ]
     },
     "execution_count": 3,
     "metadata": {},
     "output_type": "execute_result"
    }
   ],
   "source": [
    "scorecard.head(10)"
   ]
  },
  {
   "cell_type": "code",
   "execution_count": null,
   "id": "dc7194a1",
   "metadata": {},
   "outputs": [
    {
     "data": {
      "application/vnd.plotly.v1+json": {
       "config": {
        "plotlyServerURL": "https://plot.ly"
       },
       "data": [
        {
         "hovertemplate": "Lending Score=%{marker.color}<br>Vendor=%{y}<extra></extra>",
         "legendgroup": "",
         "marker": {
          "color": {
           "bdata": "w/UoXI+Gj0AUrkfherKPQMP1KFyPAZBAPQrXo3AJkEDD9Shcj1mQQJqZmZmZYJBApHA9CtfelkB7FK5H4UWbQOxRuB6Fw5tAmpmZmZmMsUAzMzMzk8HKQA==",
           "dtype": "f8"
          },
          "coloraxis": "coloraxis",
          "pattern": {
           "shape": ""
          }
         },
         "name": "",
         "orientation": "h",
         "showlegend": false,
         "textposition": "auto",
         "type": "bar",
         "x": {
          "bdata": "w/UoXI+Gj0AUrkfherKPQMP1KFyPAZBAPQrXo3AJkEDD9Shcj1mQQJqZmZmZYJBApHA9CtfelkB7FK5H4UWbQOxRuB6Fw5tAmpmZmZmMsUAzMzMzk8HKQA==",
          "dtype": "f8"
         },
         "xaxis": "x",
         "y": [
          "SINA KIDS/ሲና ኪድስⓇ",
          "ልዩ እቃ",
          "qnash.com - ቅናሽ ®️",
          "ማራኪ ცЯﾑŋの™",
          "Sheger online-store",
          "ምርጥ ዕቃ",
          "https://t.me/Fashiontera",
          "https://t.me/nevacomputer",
          "https://t.me/ZemenExpress",
          "https://t.me/Shewabrand",
          "https://t.me/ethio_brand_collection"
         ],
         "yaxis": "y"
        }
       ],
       "layout": {
        "barmode": "relative",
        "coloraxis": {
         "colorbar": {
          "title": {
           "text": "Lending Score"
          }
         },
         "colorscale": [
          [
           0,
           "#440154"
          ],
          [
           0.1111111111111111,
           "#482878"
          ],
          [
           0.2222222222222222,
           "#3e4989"
          ],
          [
           0.3333333333333333,
           "#31688e"
          ],
          [
           0.4444444444444444,
           "#26828e"
          ],
          [
           0.5555555555555556,
           "#1f9e89"
          ],
          [
           0.6666666666666666,
           "#35b779"
          ],
          [
           0.7777777777777778,
           "#6ece58"
          ],
          [
           0.8888888888888888,
           "#b5de2b"
          ],
          [
           1,
           "#fde725"
          ]
         ]
        },
        "height": 600,
        "legend": {
         "tracegroupgap": 0
        },
        "template": {
         "data": {
          "bar": [
           {
            "error_x": {
             "color": "#2a3f5f"
            },
            "error_y": {
             "color": "#2a3f5f"
            },
            "marker": {
             "line": {
              "color": "white",
              "width": 0.5
             },
             "pattern": {
              "fillmode": "overlay",
              "size": 10,
              "solidity": 0.2
             }
            },
            "type": "bar"
           }
          ],
          "barpolar": [
           {
            "marker": {
             "line": {
              "color": "white",
              "width": 0.5
             },
             "pattern": {
              "fillmode": "overlay",
              "size": 10,
              "solidity": 0.2
             }
            },
            "type": "barpolar"
           }
          ],
          "carpet": [
           {
            "aaxis": {
             "endlinecolor": "#2a3f5f",
             "gridcolor": "#C8D4E3",
             "linecolor": "#C8D4E3",
             "minorgridcolor": "#C8D4E3",
             "startlinecolor": "#2a3f5f"
            },
            "baxis": {
             "endlinecolor": "#2a3f5f",
             "gridcolor": "#C8D4E3",
             "linecolor": "#C8D4E3",
             "minorgridcolor": "#C8D4E3",
             "startlinecolor": "#2a3f5f"
            },
            "type": "carpet"
           }
          ],
          "choropleth": [
           {
            "colorbar": {
             "outlinewidth": 0,
             "ticks": ""
            },
            "type": "choropleth"
           }
          ],
          "contour": [
           {
            "colorbar": {
             "outlinewidth": 0,
             "ticks": ""
            },
            "colorscale": [
             [
              0,
              "#0d0887"
             ],
             [
              0.1111111111111111,
              "#46039f"
             ],
             [
              0.2222222222222222,
              "#7201a8"
             ],
             [
              0.3333333333333333,
              "#9c179e"
             ],
             [
              0.4444444444444444,
              "#bd3786"
             ],
             [
              0.5555555555555556,
              "#d8576b"
             ],
             [
              0.6666666666666666,
              "#ed7953"
             ],
             [
              0.7777777777777778,
              "#fb9f3a"
             ],
             [
              0.8888888888888888,
              "#fdca26"
             ],
             [
              1,
              "#f0f921"
             ]
            ],
            "type": "contour"
           }
          ],
          "contourcarpet": [
           {
            "colorbar": {
             "outlinewidth": 0,
             "ticks": ""
            },
            "type": "contourcarpet"
           }
          ],
          "heatmap": [
           {
            "colorbar": {
             "outlinewidth": 0,
             "ticks": ""
            },
            "colorscale": [
             [
              0,
              "#0d0887"
             ],
             [
              0.1111111111111111,
              "#46039f"
             ],
             [
              0.2222222222222222,
              "#7201a8"
             ],
             [
              0.3333333333333333,
              "#9c179e"
             ],
             [
              0.4444444444444444,
              "#bd3786"
             ],
             [
              0.5555555555555556,
              "#d8576b"
             ],
             [
              0.6666666666666666,
              "#ed7953"
             ],
             [
              0.7777777777777778,
              "#fb9f3a"
             ],
             [
              0.8888888888888888,
              "#fdca26"
             ],
             [
              1,
              "#f0f921"
             ]
            ],
            "type": "heatmap"
           }
          ],
          "histogram": [
           {
            "marker": {
             "pattern": {
              "fillmode": "overlay",
              "size": 10,
              "solidity": 0.2
             }
            },
            "type": "histogram"
           }
          ],
          "histogram2d": [
           {
            "colorbar": {
             "outlinewidth": 0,
             "ticks": ""
            },
            "colorscale": [
             [
              0,
              "#0d0887"
             ],
             [
              0.1111111111111111,
              "#46039f"
             ],
             [
              0.2222222222222222,
              "#7201a8"
             ],
             [
              0.3333333333333333,
              "#9c179e"
             ],
             [
              0.4444444444444444,
              "#bd3786"
             ],
             [
              0.5555555555555556,
              "#d8576b"
             ],
             [
              0.6666666666666666,
              "#ed7953"
             ],
             [
              0.7777777777777778,
              "#fb9f3a"
             ],
             [
              0.8888888888888888,
              "#fdca26"
             ],
             [
              1,
              "#f0f921"
             ]
            ],
            "type": "histogram2d"
           }
          ],
          "histogram2dcontour": [
           {
            "colorbar": {
             "outlinewidth": 0,
             "ticks": ""
            },
            "colorscale": [
             [
              0,
              "#0d0887"
             ],
             [
              0.1111111111111111,
              "#46039f"
             ],
             [
              0.2222222222222222,
              "#7201a8"
             ],
             [
              0.3333333333333333,
              "#9c179e"
             ],
             [
              0.4444444444444444,
              "#bd3786"
             ],
             [
              0.5555555555555556,
              "#d8576b"
             ],
             [
              0.6666666666666666,
              "#ed7953"
             ],
             [
              0.7777777777777778,
              "#fb9f3a"
             ],
             [
              0.8888888888888888,
              "#fdca26"
             ],
             [
              1,
              "#f0f921"
             ]
            ],
            "type": "histogram2dcontour"
           }
          ],
          "mesh3d": [
           {
            "colorbar": {
             "outlinewidth": 0,
             "ticks": ""
            },
            "type": "mesh3d"
           }
          ],
          "parcoords": [
           {
            "line": {
             "colorbar": {
              "outlinewidth": 0,
              "ticks": ""
             }
            },
            "type": "parcoords"
           }
          ],
          "pie": [
           {
            "automargin": true,
            "type": "pie"
           }
          ],
          "scatter": [
           {
            "fillpattern": {
             "fillmode": "overlay",
             "size": 10,
             "solidity": 0.2
            },
            "type": "scatter"
           }
          ],
          "scatter3d": [
           {
            "line": {
             "colorbar": {
              "outlinewidth": 0,
              "ticks": ""
             }
            },
            "marker": {
             "colorbar": {
              "outlinewidth": 0,
              "ticks": ""
             }
            },
            "type": "scatter3d"
           }
          ],
          "scattercarpet": [
           {
            "marker": {
             "colorbar": {
              "outlinewidth": 0,
              "ticks": ""
             }
            },
            "type": "scattercarpet"
           }
          ],
          "scattergeo": [
           {
            "marker": {
             "colorbar": {
              "outlinewidth": 0,
              "ticks": ""
             }
            },
            "type": "scattergeo"
           }
          ],
          "scattergl": [
           {
            "marker": {
             "colorbar": {
              "outlinewidth": 0,
              "ticks": ""
             }
            },
            "type": "scattergl"
           }
          ],
          "scattermap": [
           {
            "marker": {
             "colorbar": {
              "outlinewidth": 0,
              "ticks": ""
             }
            },
            "type": "scattermap"
           }
          ],
          "scattermapbox": [
           {
            "marker": {
             "colorbar": {
              "outlinewidth": 0,
              "ticks": ""
             }
            },
            "type": "scattermapbox"
           }
          ],
          "scatterpolar": [
           {
            "marker": {
             "colorbar": {
              "outlinewidth": 0,
              "ticks": ""
             }
            },
            "type": "scatterpolar"
           }
          ],
          "scatterpolargl": [
           {
            "marker": {
             "colorbar": {
              "outlinewidth": 0,
              "ticks": ""
             }
            },
            "type": "scatterpolargl"
           }
          ],
          "scatterternary": [
           {
            "marker": {
             "colorbar": {
              "outlinewidth": 0,
              "ticks": ""
             }
            },
            "type": "scatterternary"
           }
          ],
          "surface": [
           {
            "colorbar": {
             "outlinewidth": 0,
             "ticks": ""
            },
            "colorscale": [
             [
              0,
              "#0d0887"
             ],
             [
              0.1111111111111111,
              "#46039f"
             ],
             [
              0.2222222222222222,
              "#7201a8"
             ],
             [
              0.3333333333333333,
              "#9c179e"
             ],
             [
              0.4444444444444444,
              "#bd3786"
             ],
             [
              0.5555555555555556,
              "#d8576b"
             ],
             [
              0.6666666666666666,
              "#ed7953"
             ],
             [
              0.7777777777777778,
              "#fb9f3a"
             ],
             [
              0.8888888888888888,
              "#fdca26"
             ],
             [
              1,
              "#f0f921"
             ]
            ],
            "type": "surface"
           }
          ],
          "table": [
           {
            "cells": {
             "fill": {
              "color": "#EBF0F8"
             },
             "line": {
              "color": "white"
             }
            },
            "header": {
             "fill": {
              "color": "#C8D4E3"
             },
             "line": {
              "color": "white"
             }
            },
            "type": "table"
           }
          ]
         },
         "layout": {
          "annotationdefaults": {
           "arrowcolor": "#2a3f5f",
           "arrowhead": 0,
           "arrowwidth": 1
          },
          "autotypenumbers": "strict",
          "coloraxis": {
           "colorbar": {
            "outlinewidth": 0,
            "ticks": ""
           }
          },
          "colorscale": {
           "diverging": [
            [
             0,
             "#8e0152"
            ],
            [
             0.1,
             "#c51b7d"
            ],
            [
             0.2,
             "#de77ae"
            ],
            [
             0.3,
             "#f1b6da"
            ],
            [
             0.4,
             "#fde0ef"
            ],
            [
             0.5,
             "#f7f7f7"
            ],
            [
             0.6,
             "#e6f5d0"
            ],
            [
             0.7,
             "#b8e186"
            ],
            [
             0.8,
             "#7fbc41"
            ],
            [
             0.9,
             "#4d9221"
            ],
            [
             1,
             "#276419"
            ]
           ],
           "sequential": [
            [
             0,
             "#0d0887"
            ],
            [
             0.1111111111111111,
             "#46039f"
            ],
            [
             0.2222222222222222,
             "#7201a8"
            ],
            [
             0.3333333333333333,
             "#9c179e"
            ],
            [
             0.4444444444444444,
             "#bd3786"
            ],
            [
             0.5555555555555556,
             "#d8576b"
            ],
            [
             0.6666666666666666,
             "#ed7953"
            ],
            [
             0.7777777777777778,
             "#fb9f3a"
            ],
            [
             0.8888888888888888,
             "#fdca26"
            ],
            [
             1,
             "#f0f921"
            ]
           ],
           "sequentialminus": [
            [
             0,
             "#0d0887"
            ],
            [
             0.1111111111111111,
             "#46039f"
            ],
            [
             0.2222222222222222,
             "#7201a8"
            ],
            [
             0.3333333333333333,
             "#9c179e"
            ],
            [
             0.4444444444444444,
             "#bd3786"
            ],
            [
             0.5555555555555556,
             "#d8576b"
            ],
            [
             0.6666666666666666,
             "#ed7953"
            ],
            [
             0.7777777777777778,
             "#fb9f3a"
            ],
            [
             0.8888888888888888,
             "#fdca26"
            ],
            [
             1,
             "#f0f921"
            ]
           ]
          },
          "colorway": [
           "#636efa",
           "#EF553B",
           "#00cc96",
           "#ab63fa",
           "#FFA15A",
           "#19d3f3",
           "#FF6692",
           "#B6E880",
           "#FF97FF",
           "#FECB52"
          ],
          "font": {
           "color": "#2a3f5f"
          },
          "geo": {
           "bgcolor": "white",
           "lakecolor": "white",
           "landcolor": "white",
           "showlakes": true,
           "showland": true,
           "subunitcolor": "#C8D4E3"
          },
          "hoverlabel": {
           "align": "left"
          },
          "hovermode": "closest",
          "mapbox": {
           "style": "light"
          },
          "paper_bgcolor": "white",
          "plot_bgcolor": "white",
          "polar": {
           "angularaxis": {
            "gridcolor": "#EBF0F8",
            "linecolor": "#EBF0F8",
            "ticks": ""
           },
           "bgcolor": "white",
           "radialaxis": {
            "gridcolor": "#EBF0F8",
            "linecolor": "#EBF0F8",
            "ticks": ""
           }
          },
          "scene": {
           "xaxis": {
            "backgroundcolor": "white",
            "gridcolor": "#DFE8F3",
            "gridwidth": 2,
            "linecolor": "#EBF0F8",
            "showbackground": true,
            "ticks": "",
            "zerolinecolor": "#EBF0F8"
           },
           "yaxis": {
            "backgroundcolor": "white",
            "gridcolor": "#DFE8F3",
            "gridwidth": 2,
            "linecolor": "#EBF0F8",
            "showbackground": true,
            "ticks": "",
            "zerolinecolor": "#EBF0F8"
           },
           "zaxis": {
            "backgroundcolor": "white",
            "gridcolor": "#DFE8F3",
            "gridwidth": 2,
            "linecolor": "#EBF0F8",
            "showbackground": true,
            "ticks": "",
            "zerolinecolor": "#EBF0F8"
           }
          },
          "shapedefaults": {
           "line": {
            "color": "#2a3f5f"
           }
          },
          "ternary": {
           "aaxis": {
            "gridcolor": "#DFE8F3",
            "linecolor": "#A2B1C6",
            "ticks": ""
           },
           "baxis": {
            "gridcolor": "#DFE8F3",
            "linecolor": "#A2B1C6",
            "ticks": ""
           },
           "bgcolor": "white",
           "caxis": {
            "gridcolor": "#DFE8F3",
            "linecolor": "#A2B1C6",
            "ticks": ""
           }
          },
          "title": {
           "x": 0.05
          },
          "xaxis": {
           "automargin": true,
           "gridcolor": "#EBF0F8",
           "linecolor": "#EBF0F8",
           "ticks": "",
           "title": {
            "standoff": 15
           },
           "zerolinecolor": "#EBF0F8",
           "zerolinewidth": 2
          },
          "yaxis": {
           "automargin": true,
           "gridcolor": "#EBF0F8",
           "linecolor": "#EBF0F8",
           "ticks": "",
           "title": {
            "standoff": 15
           },
           "zerolinecolor": "#EBF0F8",
           "zerolinewidth": 2
          }
         }
        },
        "title": {
         "text": " Vendor Lending Score Comparison"
        },
        "xaxis": {
         "anchor": "y",
         "domain": [
          0,
          1
         ],
         "title": {
          "text": "Lending Score"
         }
        },
        "yaxis": {
         "anchor": "x",
         "domain": [
          0,
          1
         ],
         "title": {
          "text": "Vendor (Telegram Channel)"
         }
        }
       }
      }
     },
     "metadata": {},
     "output_type": "display_data"
    }
   ],
   "source": [
    "import pandas as pd\n",
    "import matplotlib.pyplot as plt\n",
    "import seaborn as sns\n",
    "import matplotlib.pyplot as plt\n",
    "import matplotlib.font_manager as fm\n",
    "# Use Abyssinica SIL (or your chosen Amharic-supporting font)\n",
    "plt.rcParams['font.family'] = 'Abyssinica SIL'\n",
    "# bar plot \n",
    "df = pd.read_csv(\"../data/vendor_score/vendor_scorecard.csv\")\n",
    "import pandas as pd\n",
    "import plotly.express as px\n",
    "# Sort vendors by lending score\n",
    "df_sorted = df.sort_values(by=\"Lending Score\", ascending=True)\n",
    "# Plot with Plotly\n",
    "fig = px.bar(\n",
    "    df_sorted,\n",
    "    x=\"Lending Score\",\n",
    "    y=\"Vendor\",\n",
    "    orientation='h',\n",
    "    title=\" Vendor Lending Score Comparison\",\n",
    "    color=\"Lending Score\",  # adds color shading by score\n",
    "    color_continuous_scale=\"Viridis\",\n",
    "    height=600,\n",
    ")\n",
    "fig.update_layout(\n",
    "    xaxis_title=\"Lending Score\",\n",
    "    yaxis_title=\"Vendor (Telegram Channel)\",\n",
    "    template=\"plotly_white\"\n",
    ")\n",
    "fig.show()\n"
   ]
  },
  {
   "cell_type": "markdown",
   "id": "fdc33dd7",
   "metadata": {},
   "source": [
    " ## Executive Summary – Vendor Insights for Micro-Lending\n",
    "\n",
    "EthioMart’s vendor scorecard reveals valuable insights into vendor activity, customer reach, and pricing behavior on Telegram. By combining post metadata (views, timestamps) with product/price information extracted using  best NER model, we can now profile vendors more accurately to support data-driven micro-lending decisions.\n",
    "\n",
    "# Business Insights & Conclusions\n",
    "\n",
    "1. High-Performing Vendors with Lending Potential\n",
    "These vendors show strong engagement and consistency, making them prime candidates for small business loans:\n",
    "\n",
    "| Vendor                                                          | Posts/Week | Avg. Views/Post | Lending Score |\n",
    "| --------------------------------------------------------------- | ---------- | --------------- | ------------- |\n",
    "| [`ethio_brand_collection`](https://t.me/ethio_brand_collection) | 8.56       | 27,389          | **13,699**   |\n",
    "| [`ZemenExpress`](https://t.me/ZemenExpress)                     | 19.5       | 35,343          | **17,768**   |\n",
    "\n",
    "Conclusion: These sellers are consistently posting and reaching tens of thousands of potential customers. They're low-risk and high-opportunity for lending.\n",
    "\n",
    "2. Luxury or High-Margin Vendors\n",
    "Some vendors post less frequently but list very high-priced products, indicating a low-volume, high-margin business model.\n",
    "\n",
    "| Vendor         | Avg. Price (ETB)     |\n",
    "| -------------- | -------------------- |\n",
    "| `nevaComputer` | **94,142 ETB**     |\n",
    "| `ናት ፣`         | **4,834,924 ETB**  |\n",
    "| `qnash.com`    | **1,707,408 ETB**  |\n",
    "\n",
    "Conclusion: These vendors may benefit from working capital loans rather than volume-based financing. Focus here should be on trust, margin analysis, and product delivery consistency.\n",
    "\n",
    "3. Popular But Inactive Vendors\n",
    "Some vendors have decent reach but post infrequently, limiting their lending score:\n",
    "\n",
    "| Vendor         | Posts/Week | Avg. Views/Post |\n",
    "| -------------- | ---------- | --------------- |\n",
    "| `Fashiontera`  | 1.65       | 2,925         |\n",
    "| `nevaComputer` | 0.82       | 3,490        |\n",
    "\n",
    "Conclusion: These may benefit from vendor engagement programs, helping them become more consistent and qualify for future credit.\n",
    "\n",
    "4. Underperforming Vendors\n",
    "Vendors with both low views and low price points represent higher risk.\n",
    "\n",
    "| Vendor                | Lending Score | Comment               |\n",
    "| --------------------- | ------------- | --------------------- |\n",
    "| `Shewabrand`          | 4,492         | Very low avg. price   |\n",
    "| `Sheger online-store` | 1,046         | Price under 1,300 ETB |\n",
    "\n",
    "Conclusion: These vendors need to improve their presence and pricing strategy. Avoid micro-lending until consistent improvement is observed.\n",
    "\n",
    "## busines recommendations \n",
    "| Action                | Target                                   | Why                                                            |\n",
    "| --------------------- | ---------------------------------------- | -------------------------------------------------------------- |\n",
    "|  **Offer loans**     | `ZemenExpress`, `ethio_brand_collection` | High consistency + reach                                       |\n",
    "|  **Engage**         | `nevaComputer`, `Fashiontera`            | Good potential, low posting                                    |\n",
    "|  **Delay lending**  | `Shewabrand`, `Sheger`                   | Low signals across the board                                   |\n",
    "|  **Monitor prices** | Across vendors                           | Some show extremely high prices – check for outliers or errors |\n"
   ]
  }
 ],
 "metadata": {
  "kernelspec": {
   "display_name": "AE-venv-py310",
   "language": "python",
   "name": "python3"
  },
  "language_info": {
   "codemirror_mode": {
    "name": "ipython",
    "version": 3
   },
   "file_extension": ".py",
   "mimetype": "text/x-python",
   "name": "python",
   "nbconvert_exporter": "python",
   "pygments_lexer": "ipython3",
   "version": "3.10.18"
  }
 },
 "nbformat": 4,
 "nbformat_minor": 5
}
